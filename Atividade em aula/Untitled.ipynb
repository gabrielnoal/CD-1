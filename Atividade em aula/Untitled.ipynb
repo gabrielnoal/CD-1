{
 "cells": [
  {
   "cell_type": "markdown",
   "metadata": {},
   "source": [
    "### Atividade em aula"
   ]
  },
  {
   "cell_type": "code",
   "execution_count": 22,
   "metadata": {
    "collapsed": true
   },
   "outputs": [],
   "source": [
    "%matplotlib inline\n",
    "\n",
    "import os\n",
    "import matplotlib.pyplot as plt\n",
    "import pandas as pd\n",
    "import numpy as np\n",
    "from scipy import stats\n",
    "import math"
   ]
  },
  {
   "cell_type": "code",
   "execution_count": 23,
   "metadata": {
    "collapsed": false
   },
   "outputs": [
    {
     "name": "stdout",
     "output_type": "stream",
     "text": [
      "[0.999, 1.02, 1.011, 1.027, 1.035, 1.019, 1.025, 1.035, 1.018, 1.048]\n"
     ]
    }
   ],
   "source": [
    "list = [0.999,\n",
    "1.02,\n",
    "1.011,\n",
    "1.027,\n",
    "1.035,\n",
    "1.019,\n",
    "1.025,\n",
    "1.035,\n",
    "1.018,\n",
    "1.048\n",
    "]\n",
    "\n",
    "print(list)"
   ]
  },
  {
   "cell_type": "code",
   "execution_count": 51,
   "metadata": {
    "collapsed": false
   },
   "outputs": [
    {
     "name": "stdout",
     "output_type": "stream",
     "text": [
      "Média amostral: 1.0237\n",
      "Desvio-padrão: 0.013031116606\n"
     ]
    }
   ],
   "source": [
    "print(\"Média amostral:\",np.mean(list))\n",
    "print(\"Desvio-padrão amostral:\",np.std(list))\n"
   ]
  },
  {
   "cell_type": "code",
   "execution_count": 52,
   "metadata": {
    "collapsed": false
   },
   "outputs": [],
   "source": [
    "#fazendo a normal\n",
    "\n",
    "m = 1\n",
    "dp=(1050-1000)/2"
   ]
  },
  {
   "cell_type": "code",
   "execution_count": 53,
   "metadata": {
    "collapsed": false
   },
   "outputs": [
    {
     "name": "stdout",
     "output_type": "stream",
     "text": [
      "7.905694150420948\n"
     ]
    }
   ],
   "source": [
    "dpa=dp/math.sqrt(10)\n",
    "print(dpa)"
   ]
  },
  {
   "cell_type": "code",
   "execution_count": 56,
   "metadata": {
    "collapsed": false
   },
   "outputs": [
    {
     "name": "stdout",
     "output_type": "stream",
     "text": [
      "2.9978392218396235\n"
     ]
    }
   ],
   "source": [
    "print(23.7/dpa)\n"
   ]
  },
  {
   "cell_type": "code",
   "execution_count": 45,
   "metadata": {
    "collapsed": true
   },
   "outputs": [],
   "source": [
    "normal = stats.norm.rvs(loc=m, scale=dpa, size=1000000)"
   ]
  },
  {
   "cell_type": "code",
   "execution_count": 38,
   "metadata": {
    "collapsed": false
   },
   "outputs": [
    {
     "name": "stdout",
     "output_type": "stream",
     "text": [
      "Média da Normal (μ): 1000.00021732\n",
      "Variância da Normal (σ²/Var): 624.966069978\n"
     ]
    }
   ],
   "source": [
    "normal = stats.norm.rvs(loc=m, scale=dp, size=1000000)\n",
    "print(\"Média da Normal (μ):\", np.mean(normal))\n",
    "print(\"Variância da Normal (σ²/Var):\", np.var(normal))"
   ]
  },
  {
   "cell_type": "code",
   "execution_count": null,
   "metadata": {
    "collapsed": true
   },
   "outputs": [],
   "source": [
    "normal = stats.norm.rvs(loc=m, scale=dpa, size=1000000)\n",
    "print(\"Média da Normal (μ):\", np.mean(normal))\n",
    "print(\"Variância da Normal (σ²/Var):\", np.var(normal))"
   ]
  },
  {
   "cell_type": "code",
   "execution_count": 39,
   "metadata": {
    "collapsed": false
   },
   "outputs": [
    {
     "data": {
      "text/plain": [
       "(array([  1.07409951e-06,   1.71855921e-06,   3.65193832e-06,\n",
       "          6.65941694e-06,   1.33188339e-05,   2.98599663e-05,\n",
       "          4.46825395e-05,   8.61427804e-05,   1.68848442e-04,\n",
       "          2.77332492e-04,   4.82055858e-04,   7.80655521e-04,\n",
       "          1.21244352e-03,   1.82940628e-03,   2.65302578e-03,\n",
       "          3.64570854e-03,   5.01475577e-03,   6.46779759e-03,\n",
       "          8.26068448e-03,   9.92167196e-03,   1.16625724e-02,\n",
       "          1.32726476e-02,   1.46575915e-02,   1.55858283e-02,\n",
       "          1.60528468e-02,   1.57044089e-02,   1.50655345e-02,\n",
       "          1.39052922e-02,   1.24056345e-02,   1.06490521e-02,\n",
       "          8.97195317e-03,   7.16875492e-03,   5.61882934e-03,\n",
       "          4.17309140e-03,   3.02595313e-03,   2.14068032e-03,\n",
       "          1.47237560e-03,   9.47570584e-04,   6.18466496e-04,\n",
       "          3.45860041e-04,   2.23627517e-04,   1.26958562e-04,\n",
       "          5.64976340e-05,   3.30822648e-05,   1.78300518e-05,\n",
       "          8.37797615e-06,   3.86675822e-06,   1.93337911e-06,\n",
       "          6.44459704e-07,   6.44459704e-07]),\n",
       " array([  884.96073361,   889.6157958 ,   894.27085799,   898.92592018,\n",
       "          903.58098238,   908.23604457,   912.89110676,   917.54616895,\n",
       "          922.20123114,   926.85629333,   931.51135552,   936.16641771,\n",
       "          940.8214799 ,   945.4765421 ,   950.13160429,   954.78666648,\n",
       "          959.44172867,   964.09679086,   968.75185305,   973.40691524,\n",
       "          978.06197743,   982.71703962,   987.37210181,   992.02716401,\n",
       "          996.6822262 ,  1001.33728839,  1005.99235058,  1010.64741277,\n",
       "         1015.30247496,  1019.95753715,  1024.61259934,  1029.26766153,\n",
       "         1033.92272372,  1038.57778592,  1043.23284811,  1047.8879103 ,\n",
       "         1052.54297249,  1057.19803468,  1061.85309687,  1066.50815906,\n",
       "         1071.16322125,  1075.81828344,  1080.47334564,  1085.12840783,\n",
       "         1089.78347002,  1094.43853221,  1099.0935944 ,  1103.74865659,\n",
       "         1108.40371878,  1113.05878097,  1117.71384316]),\n",
       " <a list of 50 Patch objects>)"
      ]
     },
     "execution_count": 39,
     "metadata": {},
     "output_type": "execute_result"
    },
    {
     "data": {
      "image/png": "[encoded data removed]",
      "text/plain": [
       "<matplotlib.figure.Figure at 0x1bd024ecb70>"
      ]
     },
     "metadata": {},
     "output_type": "display_data"
    }
   ],
   "source": [
    "hist = plt.hist(normal, bins = 50, normed = 1, color=\"blue\")\n",
    "hist\n"
   ]
  },
  {
   "cell_type": "code",
   "execution_count": null,
   "metadata": {
    "collapsed": true
   },
   "outputs": [],
   "source": []
  },
  {
   "cell_type": "code",
   "execution_count": null,
   "metadata": {
    "collapsed": true
   },
   "outputs": [],
   "source": []
  },
  {
   "cell_type": "code",
   "execution_count": null,
   "metadata": {
    "collapsed": true
   },
   "outputs": [],
   "source": []
  }
 ],
 "metadata": {
  "kernelspec": {
   "display_name": "Python 3",
   "language": "python",
   "name": "python3"
  },
  "language_info": {
   "codemirror_mode": {
    "name": "ipython",
    "version": 3
   },
   "file_extension": ".py",
   "mimetype": "text/x-python",
   "name": "python",
   "nbconvert_exporter": "python",
   "pygments_lexer": "ipython3",
   "version": "3.5.2"
  }
 },
 "nbformat": 4,
 "nbformat_minor": 0
}
