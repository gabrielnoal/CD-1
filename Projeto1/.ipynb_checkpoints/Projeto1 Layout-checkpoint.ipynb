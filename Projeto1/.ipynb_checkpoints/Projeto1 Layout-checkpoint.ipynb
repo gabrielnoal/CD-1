{
 "cells": [
  {
   "cell_type": "markdown",
   "metadata": {},
   "source": [
    "___\n",
    "# PROJETO 1"
   ]
  },
  {
   "cell_type": "markdown",
   "metadata": {},
   "source": [
    "## <font color='blue'>William Palmieri</font>\n",
    "___"
   ]
  },
  {
   "cell_type": "markdown",
   "metadata": {},
   "source": [
    "## <font color='blue'>A inclusão social e as condições de vida da população aposentada</font>"
   ]
  },
  {
   "cell_type": "markdown",
   "metadata": {},
   "source": [
    "## Introdução\n",
    "\n",
    "Uma pesquisa ( http://www.management.utm.my/jurnal-kemanusiaan/attachments/article/128/JK12_128.pdf) feita pela Universiti Utara Malaysia mostrou que existia uma tendência de aposentados ficarem sendo cada vez mais integrados na sociedade. Visto isso, decidi analisar a atual integração dos aposentados na sociedade brasileira."
   ]
  },
  {
   "cell_type": "markdown",
   "metadata": {},
   "source": [
    "___\n",
    "## Análise e Resultados"
   ]
  },
  {
   "cell_type": "code",
   "execution_count": 226,
   "metadata": {
    "collapsed": true
   },
   "outputs": [],
   "source": []
  },
  {
   "cell_type": "code",
   "execution_count": 227,
   "metadata": {
    "collapsed": false
   },
   "outputs": [],
   "source": [
    "estrutura = pd.read_table(\"pes_py.txt\", sep=\";\")"
   ]
  },
  {
   "cell_type": "code",
   "execution_count": 228,
   "metadata": {
    "collapsed": false,
    "scrolled": true
   },
   "outputs": [],
   "source": [
    "notas = pd.read_fwf(\"PES2014.txt\", widths=estrutura.Tamanho, header=None)"
   ]
  },
  {
   "cell_type": "code",
   "execution_count": 229,
   "metadata": {
    "collapsed": false
   },
   "outputs": [],
   "source": [
    "notas.columns = estrutura.iloc[:,0]"
   ]
  },
  {
   "cell_type": "code",
   "execution_count": 230,
   "metadata": {
    "collapsed": false
   },
   "outputs": [],
   "source": [
    "notas[\"Região\"] = notas.UF\n",
    "\n",
    "def Região(uf):\n",
    "    if uf < 18:\n",
    "        return \"Norte\"\n",
    "    elif uf < 30:\n",
    "        return \"Nordeste\"\n",
    "    elif uf < 36:\n",
    "        return \"Sudeste\"\n",
    "    elif uf < 44:\n",
    "        return \"Sul\"\n",
    "    else:\n",
    "        return \"Centro-oeste\"\n",
    "\n",
    "notas.Região = notas.Região.map(Região)"
   ]
  },
  {
   "cell_type": "code",
   "execution_count": 231,
   "metadata": {
    "collapsed": false
   },
   "outputs": [],
   "source": [
    "#Renomeando o Sexo\n",
    "notas.V0302 = notas.V0302.astype('category')\n",
    "notas.V0302.cat.categories= ('Masculino', 'Feminino')\n",
    "#Renomeando a Raça\n",
    "notas.V0404 = notas.V0404.astype('category')\n",
    "notas.V0404.cat.categories= ('Branca', 'Preta', 'Amarela', 'Parda', 'Indígena', \"ND\")\n",
    "#Renomeando a Alfabetização\n",
    "notas.V0601 = notas.V0601.astype('category')\n",
    "notas.V0601.cat.categories= ('Sim', 'Não')\n",
    "#Renomeando os Estados\n",
    "notas.UF = notas.UF.astype('category')\n",
    "notas.UF.cat.categories=('RR', 'AC', 'AM', 'RO', 'PA', 'AP', 'TO', 'MA', 'PI', 'CE', 'RN', 'PB', 'PE', 'AL', 'SE', 'BA', 'MG', 'ES', 'RJ', 'SP', 'PR', 'SC', 'RS', 'MS', 'MT', 'GO', 'DF')\n",
    "#Renomeando o Acesso à Internet\n",
    "notas.V06111 = notas.V06111.astype('category')\n",
    "notas.V06111.cat.categories= ('Sim', 'Não',)\n",
    "#Renomeando o Acesso à Internet\n",
    "notas.V06112 = notas.V06112.astype('category')\n",
    "notas.V06112.cat.categories= ('Sim', 'Não')\n",
    "#Renomeando o Trabalho no ano\n",
    "notas.V0701 = notas.V0701.astype('category')\n",
    "notas.V0701.cat.categories= ('Sim', 'Não')\n",
    "#Renomeando Procura de Emprego\n",
    "notas.V9115 = notas.V9115.astype('category')\n",
    "notas.V9115.cat.categories= ('Sim', 'Não')\n",
    "#Renomeando Rendimentos extras\n",
    "notas.V9124 = notas.V9124.astype('category')\n",
    "notas.V9124.cat.categories= ('Sim', 'Não')\n",
    "#Renomeando Anos Estudados\n",
    "notas.V4803 = notas.V4803.astype('category')\n",
    "notas.V4803.cat.categories= ('0', '1', '2', '3', '4', '5', '6', '7', '8', '9', '10', '11', '12', '13', '14', '15 ou mais', 'ND')\n",
    "#Renomeando Rendimentos extras\n",
    "notas.V4747 = notas.V4747.astype('category')\n",
    "notas.V4747.cat.categories= ('Agrícola', 'Não-Agrícola')\n",
    "#Renomeando Aposentados\n",
    "notas.V9122 = notas.V9122.astype('category')\n",
    "notas.V9122.cat.categories= ('Sim', 'Não')\n",
    "\n"
   ]
  },
  {
   "cell_type": "code",
   "execution_count": 244,
   "metadata": {
    "collapsed": false
   },
   "outputs": [],
   "source": [
    "tab = pd.DataFrame()\n",
    "\n",
    "\n",
    "tab[\"Sexo\"] = notas.V0302\n",
    "tab[\"Alfabetizado\"] = notas.V0601\n",
    "tab[\"Estado\"] = notas.UF\n",
    "tab[\"Regiao\"] = notas.Região\n",
    "tab[\"Internet\"] = notas.V06111\n",
    "tab[\"Celular\"] = notas.V06112\n",
    "tab[\"Renda\"] = notas.V4720\n",
    "tab[\"Integrantes da família\"] = notas.V4724\n",
    "tab[\"Trabalho\"] = notas.V4747\n",
    "tab[\"Idade\"] = notas.V8005\n",
    "tab[\"Aposentado\"] = notas.V9122"
   ]
  },
  {
   "cell_type": "code",
   "execution_count": 245,
   "metadata": {
    "collapsed": false,
    "scrolled": true
   },
   "outputs": [
    {
     "data": {
      "text/html": [
       "<div>\n",
       "<table border=\"1\" class=\"dataframe\">\n",
       "  <thead>\n",
       "    <tr style=\"text-align: right;\">\n",
       "      <th></th>\n",
       "      <th>Sexo</th>\n",
       "      <th>Alfabetizado</th>\n",
       "      <th>Estado</th>\n",
       "      <th>Regiao</th>\n",
       "      <th>Internet</th>\n",
       "      <th>Celular</th>\n",
       "      <th>Renda</th>\n",
       "      <th>Integrantes da família</th>\n",
       "      <th>Trabalho</th>\n",
       "      <th>Idade</th>\n",
       "      <th>Aposentado</th>\n",
       "    </tr>\n",
       "  </thead>\n",
       "  <tbody>\n",
       "    <tr>\n",
       "      <th>0</th>\n",
       "      <td>Masculino</td>\n",
       "      <td>Sim</td>\n",
       "      <td>RR</td>\n",
       "      <td>Norte</td>\n",
       "      <td>Não</td>\n",
       "      <td>Sim</td>\n",
       "      <td>1500</td>\n",
       "      <td>3</td>\n",
       "      <td>Não-Agrícola</td>\n",
       "      <td>27</td>\n",
       "      <td>Não</td>\n",
       "    </tr>\n",
       "    <tr>\n",
       "      <th>1</th>\n",
       "      <td>Feminino</td>\n",
       "      <td>Sim</td>\n",
       "      <td>RR</td>\n",
       "      <td>Norte</td>\n",
       "      <td>Não</td>\n",
       "      <td>Sim</td>\n",
       "      <td>0</td>\n",
       "      <td>3</td>\n",
       "      <td>NaN</td>\n",
       "      <td>28</td>\n",
       "      <td>Não</td>\n",
       "    </tr>\n",
       "    <tr>\n",
       "      <th>2</th>\n",
       "      <td>Masculino</td>\n",
       "      <td>Não</td>\n",
       "      <td>RR</td>\n",
       "      <td>Norte</td>\n",
       "      <td>NaN</td>\n",
       "      <td>NaN</td>\n",
       "      <td>NaN</td>\n",
       "      <td>3</td>\n",
       "      <td>NaN</td>\n",
       "      <td>1</td>\n",
       "      <td>NaN</td>\n",
       "    </tr>\n",
       "    <tr>\n",
       "      <th>3</th>\n",
       "      <td>Masculino</td>\n",
       "      <td>Sim</td>\n",
       "      <td>RR</td>\n",
       "      <td>Norte</td>\n",
       "      <td>Sim</td>\n",
       "      <td>Sim</td>\n",
       "      <td>1200</td>\n",
       "      <td>2</td>\n",
       "      <td>Não-Agrícola</td>\n",
       "      <td>51</td>\n",
       "      <td>Não</td>\n",
       "    </tr>\n",
       "    <tr>\n",
       "      <th>4</th>\n",
       "      <td>Feminino</td>\n",
       "      <td>Sim</td>\n",
       "      <td>RR</td>\n",
       "      <td>Norte</td>\n",
       "      <td>Sim</td>\n",
       "      <td>Sim</td>\n",
       "      <td>1100</td>\n",
       "      <td>2</td>\n",
       "      <td>Não-Agrícola</td>\n",
       "      <td>43</td>\n",
       "      <td>Não</td>\n",
       "    </tr>\n",
       "    <tr>\n",
       "      <th>5</th>\n",
       "      <td>Feminino</td>\n",
       "      <td>Sim</td>\n",
       "      <td>RR</td>\n",
       "      <td>Norte</td>\n",
       "      <td>Não</td>\n",
       "      <td>Não</td>\n",
       "      <td>724</td>\n",
       "      <td>1</td>\n",
       "      <td>NaN</td>\n",
       "      <td>77</td>\n",
       "      <td>Sim</td>\n",
       "    </tr>\n",
       "    <tr>\n",
       "      <th>6</th>\n",
       "      <td>Feminino</td>\n",
       "      <td>Sim</td>\n",
       "      <td>RR</td>\n",
       "      <td>Norte</td>\n",
       "      <td>Sim</td>\n",
       "      <td>Sim</td>\n",
       "      <td>0</td>\n",
       "      <td>5</td>\n",
       "      <td>NaN</td>\n",
       "      <td>39</td>\n",
       "      <td>Não</td>\n",
       "    </tr>\n",
       "    <tr>\n",
       "      <th>7</th>\n",
       "      <td>Masculino</td>\n",
       "      <td>Sim</td>\n",
       "      <td>RR</td>\n",
       "      <td>Norte</td>\n",
       "      <td>Sim</td>\n",
       "      <td>Sim</td>\n",
       "      <td>7000</td>\n",
       "      <td>5</td>\n",
       "      <td>Não-Agrícola</td>\n",
       "      <td>60</td>\n",
       "      <td>Não</td>\n",
       "    </tr>\n",
       "    <tr>\n",
       "      <th>8</th>\n",
       "      <td>Feminino</td>\n",
       "      <td>Sim</td>\n",
       "      <td>RR</td>\n",
       "      <td>Norte</td>\n",
       "      <td>Sim</td>\n",
       "      <td>Sim</td>\n",
       "      <td>1500</td>\n",
       "      <td>5</td>\n",
       "      <td>Não-Agrícola</td>\n",
       "      <td>16</td>\n",
       "      <td>Não</td>\n",
       "    </tr>\n",
       "    <tr>\n",
       "      <th>9</th>\n",
       "      <td>Masculino</td>\n",
       "      <td>Sim</td>\n",
       "      <td>RR</td>\n",
       "      <td>Norte</td>\n",
       "      <td>Sim</td>\n",
       "      <td>Sim</td>\n",
       "      <td>0</td>\n",
       "      <td>5</td>\n",
       "      <td>NaN</td>\n",
       "      <td>15</td>\n",
       "      <td>Não</td>\n",
       "    </tr>\n",
       "    <tr>\n",
       "      <th>10</th>\n",
       "      <td>Feminino</td>\n",
       "      <td>Sim</td>\n",
       "      <td>RR</td>\n",
       "      <td>Norte</td>\n",
       "      <td>Sim</td>\n",
       "      <td>Sim</td>\n",
       "      <td>0</td>\n",
       "      <td>5</td>\n",
       "      <td>NaN</td>\n",
       "      <td>12</td>\n",
       "      <td>Não</td>\n",
       "    </tr>\n",
       "    <tr>\n",
       "      <th>11</th>\n",
       "      <td>Feminino</td>\n",
       "      <td>Sim</td>\n",
       "      <td>RR</td>\n",
       "      <td>Norte</td>\n",
       "      <td>Não</td>\n",
       "      <td>Sim</td>\n",
       "      <td>724</td>\n",
       "      <td>4</td>\n",
       "      <td>NaN</td>\n",
       "      <td>68</td>\n",
       "      <td>Sim</td>\n",
       "    </tr>\n",
       "    <tr>\n",
       "      <th>12</th>\n",
       "      <td>Feminino</td>\n",
       "      <td>Sim</td>\n",
       "      <td>RR</td>\n",
       "      <td>Norte</td>\n",
       "      <td>Sim</td>\n",
       "      <td>Sim</td>\n",
       "      <td>1000</td>\n",
       "      <td>4</td>\n",
       "      <td>Não-Agrícola</td>\n",
       "      <td>35</td>\n",
       "      <td>Não</td>\n",
       "    </tr>\n",
       "    <tr>\n",
       "      <th>13</th>\n",
       "      <td>Feminino</td>\n",
       "      <td>Sim</td>\n",
       "      <td>RR</td>\n",
       "      <td>Norte</td>\n",
       "      <td>Sim</td>\n",
       "      <td>Sim</td>\n",
       "      <td>1448</td>\n",
       "      <td>4</td>\n",
       "      <td>Não-Agrícola</td>\n",
       "      <td>18</td>\n",
       "      <td>Não</td>\n",
       "    </tr>\n",
       "    <tr>\n",
       "      <th>14</th>\n",
       "      <td>Masculino</td>\n",
       "      <td>Sim</td>\n",
       "      <td>RR</td>\n",
       "      <td>Norte</td>\n",
       "      <td>Sim</td>\n",
       "      <td>Sim</td>\n",
       "      <td>250</td>\n",
       "      <td>4</td>\n",
       "      <td>NaN</td>\n",
       "      <td>14</td>\n",
       "      <td>Não</td>\n",
       "    </tr>\n",
       "    <tr>\n",
       "      <th>15</th>\n",
       "      <td>Masculino</td>\n",
       "      <td>Sim</td>\n",
       "      <td>RR</td>\n",
       "      <td>Norte</td>\n",
       "      <td>Não</td>\n",
       "      <td>Sim</td>\n",
       "      <td>900</td>\n",
       "      <td>2</td>\n",
       "      <td>Não-Agrícola</td>\n",
       "      <td>60</td>\n",
       "      <td>Não</td>\n",
       "    </tr>\n",
       "    <tr>\n",
       "      <th>16</th>\n",
       "      <td>Feminino</td>\n",
       "      <td>Sim</td>\n",
       "      <td>RR</td>\n",
       "      <td>Norte</td>\n",
       "      <td>Não</td>\n",
       "      <td>Sim</td>\n",
       "      <td>800</td>\n",
       "      <td>2</td>\n",
       "      <td>Não-Agrícola</td>\n",
       "      <td>58</td>\n",
       "      <td>Não</td>\n",
       "    </tr>\n",
       "    <tr>\n",
       "      <th>17</th>\n",
       "      <td>Feminino</td>\n",
       "      <td>Sim</td>\n",
       "      <td>RR</td>\n",
       "      <td>Norte</td>\n",
       "      <td>Sim</td>\n",
       "      <td>Sim</td>\n",
       "      <td>2000</td>\n",
       "      <td>5</td>\n",
       "      <td>Não-Agrícola</td>\n",
       "      <td>55</td>\n",
       "      <td>Não</td>\n",
       "    </tr>\n",
       "    <tr>\n",
       "      <th>18</th>\n",
       "      <td>Masculino</td>\n",
       "      <td>Sim</td>\n",
       "      <td>RR</td>\n",
       "      <td>Norte</td>\n",
       "      <td>Sim</td>\n",
       "      <td>Sim</td>\n",
       "      <td>4100</td>\n",
       "      <td>5</td>\n",
       "      <td>Não-Agrícola</td>\n",
       "      <td>60</td>\n",
       "      <td>Não</td>\n",
       "    </tr>\n",
       "    <tr>\n",
       "      <th>19</th>\n",
       "      <td>Masculino</td>\n",
       "      <td>Sim</td>\n",
       "      <td>RR</td>\n",
       "      <td>Norte</td>\n",
       "      <td>Sim</td>\n",
       "      <td>Sim</td>\n",
       "      <td>3500</td>\n",
       "      <td>5</td>\n",
       "      <td>Não-Agrícola</td>\n",
       "      <td>33</td>\n",
       "      <td>Não</td>\n",
       "    </tr>\n",
       "    <tr>\n",
       "      <th>20</th>\n",
       "      <td>Masculino</td>\n",
       "      <td>Sim</td>\n",
       "      <td>RR</td>\n",
       "      <td>Norte</td>\n",
       "      <td>Sim</td>\n",
       "      <td>Sim</td>\n",
       "      <td>1500</td>\n",
       "      <td>5</td>\n",
       "      <td>Não-Agrícola</td>\n",
       "      <td>33</td>\n",
       "      <td>Não</td>\n",
       "    </tr>\n",
       "    <tr>\n",
       "      <th>21</th>\n",
       "      <td>Masculino</td>\n",
       "      <td>Sim</td>\n",
       "      <td>RR</td>\n",
       "      <td>Norte</td>\n",
       "      <td>Sim</td>\n",
       "      <td>Sim</td>\n",
       "      <td>5000</td>\n",
       "      <td>5</td>\n",
       "      <td>Não-Agrícola</td>\n",
       "      <td>29</td>\n",
       "      <td>Não</td>\n",
       "    </tr>\n",
       "    <tr>\n",
       "      <th>22</th>\n",
       "      <td>Masculino</td>\n",
       "      <td>Sim</td>\n",
       "      <td>RR</td>\n",
       "      <td>Norte</td>\n",
       "      <td>Sim</td>\n",
       "      <td>Sim</td>\n",
       "      <td>1600</td>\n",
       "      <td>3</td>\n",
       "      <td>Não-Agrícola</td>\n",
       "      <td>39</td>\n",
       "      <td>Não</td>\n",
       "    </tr>\n",
       "    <tr>\n",
       "      <th>23</th>\n",
       "      <td>Feminino</td>\n",
       "      <td>Sim</td>\n",
       "      <td>RR</td>\n",
       "      <td>Norte</td>\n",
       "      <td>Sim</td>\n",
       "      <td>Sim</td>\n",
       "      <td>1200</td>\n",
       "      <td>3</td>\n",
       "      <td>Não-Agrícola</td>\n",
       "      <td>42</td>\n",
       "      <td>Não</td>\n",
       "    </tr>\n",
       "    <tr>\n",
       "      <th>24</th>\n",
       "      <td>Masculino</td>\n",
       "      <td>Não</td>\n",
       "      <td>RR</td>\n",
       "      <td>Norte</td>\n",
       "      <td>NaN</td>\n",
       "      <td>NaN</td>\n",
       "      <td>NaN</td>\n",
       "      <td>3</td>\n",
       "      <td>NaN</td>\n",
       "      <td>5</td>\n",
       "      <td>NaN</td>\n",
       "    </tr>\n",
       "    <tr>\n",
       "      <th>25</th>\n",
       "      <td>Masculino</td>\n",
       "      <td>Sim</td>\n",
       "      <td>RR</td>\n",
       "      <td>Norte</td>\n",
       "      <td>Não</td>\n",
       "      <td>Sim</td>\n",
       "      <td>2224</td>\n",
       "      <td>2</td>\n",
       "      <td>Agrícola</td>\n",
       "      <td>65</td>\n",
       "      <td>Sim</td>\n",
       "    </tr>\n",
       "    <tr>\n",
       "      <th>26</th>\n",
       "      <td>Feminino</td>\n",
       "      <td>Sim</td>\n",
       "      <td>RR</td>\n",
       "      <td>Norte</td>\n",
       "      <td>Sim</td>\n",
       "      <td>Sim</td>\n",
       "      <td>2500</td>\n",
       "      <td>2</td>\n",
       "      <td>NaN</td>\n",
       "      <td>62</td>\n",
       "      <td>Sim</td>\n",
       "    </tr>\n",
       "    <tr>\n",
       "      <th>27</th>\n",
       "      <td>Masculino</td>\n",
       "      <td>Sim</td>\n",
       "      <td>RR</td>\n",
       "      <td>Norte</td>\n",
       "      <td>Sim</td>\n",
       "      <td>Sim</td>\n",
       "      <td>2000</td>\n",
       "      <td>5</td>\n",
       "      <td>Não-Agrícola</td>\n",
       "      <td>48</td>\n",
       "      <td>Não</td>\n",
       "    </tr>\n",
       "    <tr>\n",
       "      <th>28</th>\n",
       "      <td>Feminino</td>\n",
       "      <td>Sim</td>\n",
       "      <td>RR</td>\n",
       "      <td>Norte</td>\n",
       "      <td>Sim</td>\n",
       "      <td>Sim</td>\n",
       "      <td>1300</td>\n",
       "      <td>5</td>\n",
       "      <td>Não-Agrícola</td>\n",
       "      <td>48</td>\n",
       "      <td>Não</td>\n",
       "    </tr>\n",
       "    <tr>\n",
       "      <th>29</th>\n",
       "      <td>Masculino</td>\n",
       "      <td>Sim</td>\n",
       "      <td>RR</td>\n",
       "      <td>Norte</td>\n",
       "      <td>Sim</td>\n",
       "      <td>Sim</td>\n",
       "      <td>724</td>\n",
       "      <td>5</td>\n",
       "      <td>Não-Agrícola</td>\n",
       "      <td>20</td>\n",
       "      <td>Não</td>\n",
       "    </tr>\n",
       "    <tr>\n",
       "      <th>...</th>\n",
       "      <td>...</td>\n",
       "      <td>...</td>\n",
       "      <td>...</td>\n",
       "      <td>...</td>\n",
       "      <td>...</td>\n",
       "      <td>...</td>\n",
       "      <td>...</td>\n",
       "      <td>...</td>\n",
       "      <td>...</td>\n",
       "      <td>...</td>\n",
       "      <td>...</td>\n",
       "    </tr>\n",
       "    <tr>\n",
       "      <th>362597</th>\n",
       "      <td>Masculino</td>\n",
       "      <td>Sim</td>\n",
       "      <td>DF</td>\n",
       "      <td>Centro-oeste</td>\n",
       "      <td>Sim</td>\n",
       "      <td>Sim</td>\n",
       "      <td>200</td>\n",
       "      <td>4</td>\n",
       "      <td>Não-Agrícola</td>\n",
       "      <td>19</td>\n",
       "      <td>Não</td>\n",
       "    </tr>\n",
       "    <tr>\n",
       "      <th>362598</th>\n",
       "      <td>Masculino</td>\n",
       "      <td>Sim</td>\n",
       "      <td>DF</td>\n",
       "      <td>Centro-oeste</td>\n",
       "      <td>Sim</td>\n",
       "      <td>Não</td>\n",
       "      <td>0</td>\n",
       "      <td>4</td>\n",
       "      <td>NaN</td>\n",
       "      <td>14</td>\n",
       "      <td>Não</td>\n",
       "    </tr>\n",
       "    <tr>\n",
       "      <th>362599</th>\n",
       "      <td>Feminino</td>\n",
       "      <td>Sim</td>\n",
       "      <td>DF</td>\n",
       "      <td>Centro-oeste</td>\n",
       "      <td>Não</td>\n",
       "      <td>Sim</td>\n",
       "      <td>1200</td>\n",
       "      <td>5</td>\n",
       "      <td>Não-Agrícola</td>\n",
       "      <td>46</td>\n",
       "      <td>Não</td>\n",
       "    </tr>\n",
       "    <tr>\n",
       "      <th>362600</th>\n",
       "      <td>Masculino</td>\n",
       "      <td>Não</td>\n",
       "      <td>DF</td>\n",
       "      <td>Centro-oeste</td>\n",
       "      <td>Não</td>\n",
       "      <td>Não</td>\n",
       "      <td>2500</td>\n",
       "      <td>5</td>\n",
       "      <td>Não-Agrícola</td>\n",
       "      <td>49</td>\n",
       "      <td>Não</td>\n",
       "    </tr>\n",
       "    <tr>\n",
       "      <th>362601</th>\n",
       "      <td>Masculino</td>\n",
       "      <td>Sim</td>\n",
       "      <td>DF</td>\n",
       "      <td>Centro-oeste</td>\n",
       "      <td>Sim</td>\n",
       "      <td>Sim</td>\n",
       "      <td>1200</td>\n",
       "      <td>5</td>\n",
       "      <td>Não-Agrícola</td>\n",
       "      <td>23</td>\n",
       "      <td>Não</td>\n",
       "    </tr>\n",
       "    <tr>\n",
       "      <th>362602</th>\n",
       "      <td>Masculino</td>\n",
       "      <td>Sim</td>\n",
       "      <td>DF</td>\n",
       "      <td>Centro-oeste</td>\n",
       "      <td>Sim</td>\n",
       "      <td>Sim</td>\n",
       "      <td>800</td>\n",
       "      <td>5</td>\n",
       "      <td>Não-Agrícola</td>\n",
       "      <td>19</td>\n",
       "      <td>Não</td>\n",
       "    </tr>\n",
       "    <tr>\n",
       "      <th>362603</th>\n",
       "      <td>Feminino</td>\n",
       "      <td>Sim</td>\n",
       "      <td>DF</td>\n",
       "      <td>Centro-oeste</td>\n",
       "      <td>Sim</td>\n",
       "      <td>Sim</td>\n",
       "      <td>0</td>\n",
       "      <td>5</td>\n",
       "      <td>NaN</td>\n",
       "      <td>13</td>\n",
       "      <td>Não</td>\n",
       "    </tr>\n",
       "    <tr>\n",
       "      <th>362604</th>\n",
       "      <td>Masculino</td>\n",
       "      <td>Sim</td>\n",
       "      <td>DF</td>\n",
       "      <td>Centro-oeste</td>\n",
       "      <td>Não</td>\n",
       "      <td>Sim</td>\n",
       "      <td>1500</td>\n",
       "      <td>3</td>\n",
       "      <td>Não-Agrícola</td>\n",
       "      <td>51</td>\n",
       "      <td>Não</td>\n",
       "    </tr>\n",
       "    <tr>\n",
       "      <th>362605</th>\n",
       "      <td>Feminino</td>\n",
       "      <td>Sim</td>\n",
       "      <td>DF</td>\n",
       "      <td>Centro-oeste</td>\n",
       "      <td>Sim</td>\n",
       "      <td>Sim</td>\n",
       "      <td>1500</td>\n",
       "      <td>3</td>\n",
       "      <td>Não-Agrícola</td>\n",
       "      <td>39</td>\n",
       "      <td>Não</td>\n",
       "    </tr>\n",
       "    <tr>\n",
       "      <th>362606</th>\n",
       "      <td>Masculino</td>\n",
       "      <td>Sim</td>\n",
       "      <td>DF</td>\n",
       "      <td>Centro-oeste</td>\n",
       "      <td>Sim</td>\n",
       "      <td>Sim</td>\n",
       "      <td>956</td>\n",
       "      <td>3</td>\n",
       "      <td>Não-Agrícola</td>\n",
       "      <td>22</td>\n",
       "      <td>Não</td>\n",
       "    </tr>\n",
       "    <tr>\n",
       "      <th>362607</th>\n",
       "      <td>Masculino</td>\n",
       "      <td>Sim</td>\n",
       "      <td>DF</td>\n",
       "      <td>Centro-oeste</td>\n",
       "      <td>Sim</td>\n",
       "      <td>Sim</td>\n",
       "      <td>1139</td>\n",
       "      <td>2</td>\n",
       "      <td>Não-Agrícola</td>\n",
       "      <td>24</td>\n",
       "      <td>Não</td>\n",
       "    </tr>\n",
       "    <tr>\n",
       "      <th>362608</th>\n",
       "      <td>Feminino</td>\n",
       "      <td>Sim</td>\n",
       "      <td>DF</td>\n",
       "      <td>Centro-oeste</td>\n",
       "      <td>Sim</td>\n",
       "      <td>Sim</td>\n",
       "      <td>900</td>\n",
       "      <td>2</td>\n",
       "      <td>Não-Agrícola</td>\n",
       "      <td>19</td>\n",
       "      <td>Não</td>\n",
       "    </tr>\n",
       "    <tr>\n",
       "      <th>362609</th>\n",
       "      <td>Masculino</td>\n",
       "      <td>Não</td>\n",
       "      <td>DF</td>\n",
       "      <td>Centro-oeste</td>\n",
       "      <td>Não</td>\n",
       "      <td>Sim</td>\n",
       "      <td>300</td>\n",
       "      <td>7</td>\n",
       "      <td>Não-Agrícola</td>\n",
       "      <td>60</td>\n",
       "      <td>Não</td>\n",
       "    </tr>\n",
       "    <tr>\n",
       "      <th>362610</th>\n",
       "      <td>Feminino</td>\n",
       "      <td>Sim</td>\n",
       "      <td>DF</td>\n",
       "      <td>Centro-oeste</td>\n",
       "      <td>Não</td>\n",
       "      <td>Sim</td>\n",
       "      <td>0</td>\n",
       "      <td>7</td>\n",
       "      <td>NaN</td>\n",
       "      <td>53</td>\n",
       "      <td>Não</td>\n",
       "    </tr>\n",
       "    <tr>\n",
       "      <th>362611</th>\n",
       "      <td>Feminino</td>\n",
       "      <td>Sim</td>\n",
       "      <td>DF</td>\n",
       "      <td>Centro-oeste</td>\n",
       "      <td>Sim</td>\n",
       "      <td>Sim</td>\n",
       "      <td>800</td>\n",
       "      <td>7</td>\n",
       "      <td>Não-Agrícola</td>\n",
       "      <td>27</td>\n",
       "      <td>Não</td>\n",
       "    </tr>\n",
       "    <tr>\n",
       "      <th>362612</th>\n",
       "      <td>Masculino</td>\n",
       "      <td>Sim</td>\n",
       "      <td>DF</td>\n",
       "      <td>Centro-oeste</td>\n",
       "      <td>Não</td>\n",
       "      <td>Sim</td>\n",
       "      <td>1000</td>\n",
       "      <td>7</td>\n",
       "      <td>Não-Agrícola</td>\n",
       "      <td>25</td>\n",
       "      <td>Não</td>\n",
       "    </tr>\n",
       "    <tr>\n",
       "      <th>362613</th>\n",
       "      <td>Masculino</td>\n",
       "      <td>Sim</td>\n",
       "      <td>DF</td>\n",
       "      <td>Centro-oeste</td>\n",
       "      <td>Sim</td>\n",
       "      <td>Sim</td>\n",
       "      <td>850</td>\n",
       "      <td>7</td>\n",
       "      <td>Não-Agrícola</td>\n",
       "      <td>19</td>\n",
       "      <td>Não</td>\n",
       "    </tr>\n",
       "    <tr>\n",
       "      <th>362614</th>\n",
       "      <td>Masculino</td>\n",
       "      <td>Sim</td>\n",
       "      <td>DF</td>\n",
       "      <td>Centro-oeste</td>\n",
       "      <td>Sim</td>\n",
       "      <td>Sim</td>\n",
       "      <td>75</td>\n",
       "      <td>7</td>\n",
       "      <td>NaN</td>\n",
       "      <td>17</td>\n",
       "      <td>Não</td>\n",
       "    </tr>\n",
       "    <tr>\n",
       "      <th>362615</th>\n",
       "      <td>Feminino</td>\n",
       "      <td>Sim</td>\n",
       "      <td>DF</td>\n",
       "      <td>Centro-oeste</td>\n",
       "      <td>Sim</td>\n",
       "      <td>Não</td>\n",
       "      <td>75</td>\n",
       "      <td>7</td>\n",
       "      <td>NaN</td>\n",
       "      <td>13</td>\n",
       "      <td>Não</td>\n",
       "    </tr>\n",
       "    <tr>\n",
       "      <th>362616</th>\n",
       "      <td>Masculino</td>\n",
       "      <td>Sim</td>\n",
       "      <td>DF</td>\n",
       "      <td>Centro-oeste</td>\n",
       "      <td>Não</td>\n",
       "      <td>Sim</td>\n",
       "      <td>3800</td>\n",
       "      <td>3</td>\n",
       "      <td>Não-Agrícola</td>\n",
       "      <td>55</td>\n",
       "      <td>Não</td>\n",
       "    </tr>\n",
       "    <tr>\n",
       "      <th>362617</th>\n",
       "      <td>Feminino</td>\n",
       "      <td>Sim</td>\n",
       "      <td>DF</td>\n",
       "      <td>Centro-oeste</td>\n",
       "      <td>Não</td>\n",
       "      <td>Sim</td>\n",
       "      <td>0</td>\n",
       "      <td>3</td>\n",
       "      <td>NaN</td>\n",
       "      <td>49</td>\n",
       "      <td>Não</td>\n",
       "    </tr>\n",
       "    <tr>\n",
       "      <th>362618</th>\n",
       "      <td>Masculino</td>\n",
       "      <td>Sim</td>\n",
       "      <td>DF</td>\n",
       "      <td>Centro-oeste</td>\n",
       "      <td>NaN</td>\n",
       "      <td>NaN</td>\n",
       "      <td>NaN</td>\n",
       "      <td>3</td>\n",
       "      <td>NaN</td>\n",
       "      <td>7</td>\n",
       "      <td>NaN</td>\n",
       "    </tr>\n",
       "    <tr>\n",
       "      <th>362619</th>\n",
       "      <td>Masculino</td>\n",
       "      <td>Sim</td>\n",
       "      <td>DF</td>\n",
       "      <td>Centro-oeste</td>\n",
       "      <td>Não</td>\n",
       "      <td>Sim</td>\n",
       "      <td>0</td>\n",
       "      <td>2</td>\n",
       "      <td>NaN</td>\n",
       "      <td>23</td>\n",
       "      <td>Não</td>\n",
       "    </tr>\n",
       "    <tr>\n",
       "      <th>362620</th>\n",
       "      <td>Feminino</td>\n",
       "      <td>Sim</td>\n",
       "      <td>DF</td>\n",
       "      <td>Centro-oeste</td>\n",
       "      <td>Não</td>\n",
       "      <td>Sim</td>\n",
       "      <td>1000</td>\n",
       "      <td>2</td>\n",
       "      <td>Não-Agrícola</td>\n",
       "      <td>24</td>\n",
       "      <td>Não</td>\n",
       "    </tr>\n",
       "    <tr>\n",
       "      <th>362621</th>\n",
       "      <td>Masculino</td>\n",
       "      <td>Sim</td>\n",
       "      <td>DF</td>\n",
       "      <td>Centro-oeste</td>\n",
       "      <td>Sim</td>\n",
       "      <td>Sim</td>\n",
       "      <td>1200</td>\n",
       "      <td>2</td>\n",
       "      <td>Não-Agrícola</td>\n",
       "      <td>27</td>\n",
       "      <td>Não</td>\n",
       "    </tr>\n",
       "    <tr>\n",
       "      <th>362622</th>\n",
       "      <td>Feminino</td>\n",
       "      <td>Sim</td>\n",
       "      <td>DF</td>\n",
       "      <td>Centro-oeste</td>\n",
       "      <td>Sim</td>\n",
       "      <td>Sim</td>\n",
       "      <td>2800</td>\n",
       "      <td>2</td>\n",
       "      <td>Não-Agrícola</td>\n",
       "      <td>31</td>\n",
       "      <td>Não</td>\n",
       "    </tr>\n",
       "    <tr>\n",
       "      <th>362623</th>\n",
       "      <td>Masculino</td>\n",
       "      <td>Não</td>\n",
       "      <td>DF</td>\n",
       "      <td>Centro-oeste</td>\n",
       "      <td>Não</td>\n",
       "      <td>Sim</td>\n",
       "      <td>3000</td>\n",
       "      <td>4</td>\n",
       "      <td>Não-Agrícola</td>\n",
       "      <td>46</td>\n",
       "      <td>Não</td>\n",
       "    </tr>\n",
       "    <tr>\n",
       "      <th>362624</th>\n",
       "      <td>Feminino</td>\n",
       "      <td>Não</td>\n",
       "      <td>DF</td>\n",
       "      <td>Centro-oeste</td>\n",
       "      <td>Não</td>\n",
       "      <td>Não</td>\n",
       "      <td>640</td>\n",
       "      <td>4</td>\n",
       "      <td>Não-Agrícola</td>\n",
       "      <td>36</td>\n",
       "      <td>Não</td>\n",
       "    </tr>\n",
       "    <tr>\n",
       "      <th>362625</th>\n",
       "      <td>Masculino</td>\n",
       "      <td>Sim</td>\n",
       "      <td>DF</td>\n",
       "      <td>Centro-oeste</td>\n",
       "      <td>Sim</td>\n",
       "      <td>Sim</td>\n",
       "      <td>0</td>\n",
       "      <td>4</td>\n",
       "      <td>NaN</td>\n",
       "      <td>18</td>\n",
       "      <td>Não</td>\n",
       "    </tr>\n",
       "    <tr>\n",
       "      <th>362626</th>\n",
       "      <td>Feminino</td>\n",
       "      <td>Sim</td>\n",
       "      <td>DF</td>\n",
       "      <td>Centro-oeste</td>\n",
       "      <td>Sim</td>\n",
       "      <td>Sim</td>\n",
       "      <td>0</td>\n",
       "      <td>4</td>\n",
       "      <td>NaN</td>\n",
       "      <td>17</td>\n",
       "      <td>Não</td>\n",
       "    </tr>\n",
       "  </tbody>\n",
       "</table>\n",
       "<p>362627 rows × 11 columns</p>\n",
       "</div>"
      ],
      "text/plain": [
       "             Sexo Alfabetizado Estado        Regiao Internet Celular  Renda  \\\n",
       "0       Masculino          Sim     RR         Norte      Não     Sim   1500   \n",
       "1        Feminino          Sim     RR         Norte      Não     Sim      0   \n",
       "2       Masculino          Não     RR         Norte      NaN     NaN    NaN   \n",
       "3       Masculino          Sim     RR         Norte      Sim     Sim   1200   \n",
       "4        Feminino          Sim     RR         Norte      Sim     Sim   1100   \n",
       "5        Feminino          Sim     RR         Norte      Não     Não    724   \n",
       "6        Feminino          Sim     RR         Norte      Sim     Sim      0   \n",
       "7       Masculino          Sim     RR         Norte      Sim     Sim   7000   \n",
       "8        Feminino          Sim     RR         Norte      Sim     Sim   1500   \n",
       "9       Masculino          Sim     RR         Norte      Sim     Sim      0   \n",
       "10       Feminino          Sim     RR         Norte      Sim     Sim      0   \n",
       "11       Feminino          Sim     RR         Norte      Não     Sim    724   \n",
       "12       Feminino          Sim     RR         Norte      Sim     Sim   1000   \n",
       "13       Feminino          Sim     RR         Norte      Sim     Sim   1448   \n",
       "14      Masculino          Sim     RR         Norte      Sim     Sim    250   \n",
       "15      Masculino          Sim     RR         Norte      Não     Sim    900   \n",
       "16       Feminino          Sim     RR         Norte      Não     Sim    800   \n",
       "17       Feminino          Sim     RR         Norte      Sim     Sim   2000   \n",
       "18      Masculino          Sim     RR         Norte      Sim     Sim   4100   \n",
       "19      Masculino          Sim     RR         Norte      Sim     Sim   3500   \n",
       "20      Masculino          Sim     RR         Norte      Sim     Sim   1500   \n",
       "21      Masculino          Sim     RR         Norte      Sim     Sim   5000   \n",
       "22      Masculino          Sim     RR         Norte      Sim     Sim   1600   \n",
       "23       Feminino          Sim     RR         Norte      Sim     Sim   1200   \n",
       "24      Masculino          Não     RR         Norte      NaN     NaN    NaN   \n",
       "25      Masculino          Sim     RR         Norte      Não     Sim   2224   \n",
       "26       Feminino          Sim     RR         Norte      Sim     Sim   2500   \n",
       "27      Masculino          Sim     RR         Norte      Sim     Sim   2000   \n",
       "28       Feminino          Sim     RR         Norte      Sim     Sim   1300   \n",
       "29      Masculino          Sim     RR         Norte      Sim     Sim    724   \n",
       "...           ...          ...    ...           ...      ...     ...    ...   \n",
       "362597  Masculino          Sim     DF  Centro-oeste      Sim     Sim    200   \n",
       "362598  Masculino          Sim     DF  Centro-oeste      Sim     Não      0   \n",
       "362599   Feminino          Sim     DF  Centro-oeste      Não     Sim   1200   \n",
       "362600  Masculino          Não     DF  Centro-oeste      Não     Não   2500   \n",
       "362601  Masculino          Sim     DF  Centro-oeste      Sim     Sim   1200   \n",
       "362602  Masculino          Sim     DF  Centro-oeste      Sim     Sim    800   \n",
       "362603   Feminino          Sim     DF  Centro-oeste      Sim     Sim      0   \n",
       "362604  Masculino          Sim     DF  Centro-oeste      Não     Sim   1500   \n",
       "362605   Feminino          Sim     DF  Centro-oeste      Sim     Sim   1500   \n",
       "362606  Masculino          Sim     DF  Centro-oeste      Sim     Sim    956   \n",
       "362607  Masculino          Sim     DF  Centro-oeste      Sim     Sim   1139   \n",
       "362608   Feminino          Sim     DF  Centro-oeste      Sim     Sim    900   \n",
       "362609  Masculino          Não     DF  Centro-oeste      Não     Sim    300   \n",
       "362610   Feminino          Sim     DF  Centro-oeste      Não     Sim      0   \n",
       "362611   Feminino          Sim     DF  Centro-oeste      Sim     Sim    800   \n",
       "362612  Masculino          Sim     DF  Centro-oeste      Não     Sim   1000   \n",
       "362613  Masculino          Sim     DF  Centro-oeste      Sim     Sim    850   \n",
       "362614  Masculino          Sim     DF  Centro-oeste      Sim     Sim     75   \n",
       "362615   Feminino          Sim     DF  Centro-oeste      Sim     Não     75   \n",
       "362616  Masculino          Sim     DF  Centro-oeste      Não     Sim   3800   \n",
       "362617   Feminino          Sim     DF  Centro-oeste      Não     Sim      0   \n",
       "362618  Masculino          Sim     DF  Centro-oeste      NaN     NaN    NaN   \n",
       "362619  Masculino          Sim     DF  Centro-oeste      Não     Sim      0   \n",
       "362620   Feminino          Sim     DF  Centro-oeste      Não     Sim   1000   \n",
       "362621  Masculino          Sim     DF  Centro-oeste      Sim     Sim   1200   \n",
       "362622   Feminino          Sim     DF  Centro-oeste      Sim     Sim   2800   \n",
       "362623  Masculino          Não     DF  Centro-oeste      Não     Sim   3000   \n",
       "362624   Feminino          Não     DF  Centro-oeste      Não     Não    640   \n",
       "362625  Masculino          Sim     DF  Centro-oeste      Sim     Sim      0   \n",
       "362626   Feminino          Sim     DF  Centro-oeste      Sim     Sim      0   \n",
       "\n",
       "        Integrantes da família      Trabalho  Idade Aposentado  \n",
       "0                            3  Não-Agrícola     27        Não  \n",
       "1                            3           NaN     28        Não  \n",
       "2                            3           NaN      1        NaN  \n",
       "3                            2  Não-Agrícola     51        Não  \n",
       "4                            2  Não-Agrícola     43        Não  \n",
       "5                            1           NaN     77        Sim  \n",
       "6                            5           NaN     39        Não  \n",
       "7                            5  Não-Agrícola     60        Não  \n",
       "8                            5  Não-Agrícola     16        Não  \n",
       "9                            5           NaN     15        Não  \n",
       "10                           5           NaN     12        Não  \n",
       "11                           4           NaN     68        Sim  \n",
       "12                           4  Não-Agrícola     35        Não  \n",
       "13                           4  Não-Agrícola     18        Não  \n",
       "14                           4           NaN     14        Não  \n",
       "15                           2  Não-Agrícola     60        Não  \n",
       "16                           2  Não-Agrícola     58        Não  \n",
       "17                           5  Não-Agrícola     55        Não  \n",
       "18                           5  Não-Agrícola     60        Não  \n",
       "19                           5  Não-Agrícola     33        Não  \n",
       "20                           5  Não-Agrícola     33        Não  \n",
       "21                           5  Não-Agrícola     29        Não  \n",
       "22                           3  Não-Agrícola     39        Não  \n",
       "23                           3  Não-Agrícola     42        Não  \n",
       "24                           3           NaN      5        NaN  \n",
       "25                           2      Agrícola     65        Sim  \n",
       "26                           2           NaN     62        Sim  \n",
       "27                           5  Não-Agrícola     48        Não  \n",
       "28                           5  Não-Agrícola     48        Não  \n",
       "29                           5  Não-Agrícola     20        Não  \n",
       "...                        ...           ...    ...        ...  \n",
       "362597                       4  Não-Agrícola     19        Não  \n",
       "362598                       4           NaN     14        Não  \n",
       "362599                       5  Não-Agrícola     46        Não  \n",
       "362600                       5  Não-Agrícola     49        Não  \n",
       "362601                       5  Não-Agrícola     23        Não  \n",
       "362602                       5  Não-Agrícola     19        Não  \n",
       "362603                       5           NaN     13        Não  \n",
       "362604                       3  Não-Agrícola     51        Não  \n",
       "362605                       3  Não-Agrícola     39        Não  \n",
       "362606                       3  Não-Agrícola     22        Não  \n",
       "362607                       2  Não-Agrícola     24        Não  \n",
       "362608                       2  Não-Agrícola     19        Não  \n",
       "362609                       7  Não-Agrícola     60        Não  \n",
       "362610                       7           NaN     53        Não  \n",
       "362611                       7  Não-Agrícola     27        Não  \n",
       "362612                       7  Não-Agrícola     25        Não  \n",
       "362613                       7  Não-Agrícola     19        Não  \n",
       "362614                       7           NaN     17        Não  \n",
       "362615                       7           NaN     13        Não  \n",
       "362616                       3  Não-Agrícola     55        Não  \n",
       "362617                       3           NaN     49        Não  \n",
       "362618                       3           NaN      7        NaN  \n",
       "362619                       2           NaN     23        Não  \n",
       "362620                       2  Não-Agrícola     24        Não  \n",
       "362621                       2  Não-Agrícola     27        Não  \n",
       "362622                       2  Não-Agrícola     31        Não  \n",
       "362623                       4  Não-Agrícola     46        Não  \n",
       "362624                       4  Não-Agrícola     36        Não  \n",
       "362625                       4           NaN     18        Não  \n",
       "362626                       4           NaN     17        Não  \n",
       "\n",
       "[362627 rows x 11 columns]"
      ]
     },
     "execution_count": 245,
     "metadata": {},
     "output_type": "execute_result"
    }
   ],
   "source": [
    "tab"
   ]
  },
  {
   "cell_type": "markdown",
   "metadata": {},
   "source": [
    "O intúito do trabalho é analisar a população de aposentados no brasil. "
   ]
  },
  {
   "cell_type": "markdown",
   "metadata": {},
   "source": [
    "Aqui vemos a quantidade de Aposentados por Região, comparando-a com a quantidade de não-aposentados."
   ]
  },
  {
   "cell_type": "code",
   "execution_count": 234,
   "metadata": {
    "collapsed": false,
    "scrolled": false
   },
   "outputs": [
    {
     "data": {
      "text/plain": [
       "<matplotlib.text.Text at 0x1da8403e4a8>"
      ]
     },
     "execution_count": 234,
     "metadata": {},
     "output_type": "execute_result"
    },
    {
     "data": {
      "image/png": "[encoded data removed]",
      "text/plain": [
       "<matplotlib.figure.Figure at 0x1db3a3c5438>"
      ]
     },
     "metadata": {},
     "output_type": "display_data"
    },
    {
     "data": {
      "image/png": "[encoded data removed]",
      "text/plain": [
       "<matplotlib.figure.Figure at 0x1da8763fb70>"
      ]
     },
     "metadata": {},
     "output_type": "display_data"
    }
   ],
   "source": [
    "rg_ap = pd.crosstab (notas.Região, tab.Aposentado)\n",
    "rg_ap_true = rg_ap.iloc[:, 0:1]\n",
    "\n",
    "rg_ap_true.plot.bar(color=('lightgreen'), stacked=False, figsize = (6,6))\n",
    "plt.title(\"Distribuição Regional de aposentados\")\n",
    "plt.xlabel(\"Região\")\n",
    "plt.ylabel(\"Habitantes\")\n",
    "\n",
    "\n",
    "rg_nap = pd.crosstab (notas.Região, tab.Aposentado)\n",
    "rg_nap_true = rg_nap.iloc[:, 1:2]\n",
    "\n",
    "rg_nap_true.plot.bar(color=('lightblue'), stacked=False, figsize = (6,6))\n",
    "plt.title(\"Distribuição Regional de não-aposentados\")\n",
    "plt.xlabel(\"Região\")\n",
    "plt.ylabel(\"Habitantes\")"
   ]
  },
  {
   "cell_type": "markdown",
   "metadata": {},
   "source": [
    "<p>IDH do Brasil = 0,816 </p>\n",
    "<p> </p>\n",
    "<p> </p>\n",
    "\n",
    "<p>IDH da Região Sul = 0,850 </p>\n",
    "<p>IDH da Região Sudeste = 0,847   </p>\n",
    "<p>IDH da Região Centro-Oeste = 0,838  </p>\n",
    "<p>IDH da Região Norte = 0,786 </p>\n",
    "<p>IDH da Região Nordeste = 0,749 </p>"
   ]
  },
  {
   "cell_type": "code",
   "execution_count": 235,
   "metadata": {
    "collapsed": false,
    "scrolled": false
   },
   "outputs": [],
   "source": [
    "#tab.boxplot(column= \"Idade\", by=notas.Região)\n",
    "#plt.show()"
   ]
  },
  {
   "cell_type": "markdown",
   "metadata": {},
   "source": [
    "<p>Ao analisarmos, percebemos que a população de aposentados está distribuida pelo país de forma semelhanta à população de não-aposentados. Assim, baseando-se também no IDH médio de cada regão, podemos presumir que as condições de vida dos dois grupos é semelhante.</p>\n",
    "<p> Entretanto, somente esse dado não é suficiente para definir se os aposentados tem uma condição de vida melhor ou pior</p>\n",
    "<p>Assim, vamos analisar a renda dos aposentados e compará-la com a renda da população</p>"
   ]
  },
  {
   "cell_type": "code",
   "execution_count": 236,
   "metadata": {
    "collapsed": false
   },
   "outputs": [
    {
     "data": {
      "text/plain": [
       "<matplotlib.text.Text at 0x1da8a7f1fd0>"
      ]
     },
     "execution_count": 236,
     "metadata": {},
     "output_type": "execute_result"
    },
    {
     "data": {
      "image/png": "[encoded data removed]",
      "text/plain": [
       "<matplotlib.figure.Figure at 0x1da96285668>"
      ]
     },
     "metadata": {},
     "output_type": "display_data"
    }
   ],
   "source": [
    "faixa = np.arange(0,120,10)\n",
    "faixa2 = np.arange(0,5000,200)\n",
    "\n",
    "#Renda média dos aposentados\n",
    "renda_ap = tab.Renda[tab.Aposentado == \"Sim\"]\n",
    "renda_ap.describe()\n",
    "\n",
    "#Plotando a RM\n",
    "renda_ap.plot.hist(bins=faixa2, normed=1, color=\"yellow\", figsize = (8, 4))\n",
    "plt.title(\"Renda Média dos Aposentados\")\n",
    "plt.xlabel(\"Renda Mensal (reais)\")\n",
    "plt.ylabel(\"Frequência Relativa\")"
   ]
  },
  {
   "cell_type": "markdown",
   "metadata": {},
   "source": [
    "O histograma acima mostra a renda dos aposentados. Pode-se notar que não existe ninguém que ganhe menos que um salário mínimo. Além disso, há um grande pico na faixa de 1 salário mínimo. O restante do histograma decai quase que proporcionalmente, exceto por alguns picos que ficam nas regiões de valores de salário mínimo exatos.    "
   ]
  },
  {
   "cell_type": "code",
   "execution_count": 237,
   "metadata": {
    "collapsed": false
   },
   "outputs": [
    {
     "data": {
      "text/plain": [
       "<matplotlib.text.Text at 0x1da88e28e80>"
      ]
     },
     "execution_count": 237,
     "metadata": {},
     "output_type": "execute_result"
    },
    {
     "data": {
      "image/png": "[encoded data removed]",
      "text/plain": [
       "<matplotlib.figure.Figure at 0x1da891383c8>"
      ]
     },
     "metadata": {},
     "output_type": "display_data"
    }
   ],
   "source": [
    "#Plotando a RM\n",
    "tab.Renda.plot.hist(bins=faixa2, normed=1, color=\"lightblue\", figsize = (8, 4))\n",
    "plt.title(\"Histograma de Renda Média do Pais\")\n",
    "plt.xlabel(\"Renda Mensal (reais)\")\n",
    "plt.ylabel(\"Frequência relativa\")"
   ]
  },
  {
   "cell_type": "markdown",
   "metadata": {},
   "source": [
    "<p> O histograma de renda média mostra que muitas das pessoas intrevistadas não possuem renda. Além disso, é notável que a renda, no geral, fica abaixo da renda dos aposentados.</p>\n",
    "<p>Para melhor comparação, farei uma sobreposição dos histogramas</p>"
   ]
  },
  {
   "cell_type": "code",
   "execution_count": 246,
   "metadata": {
    "collapsed": false
   },
   "outputs": [
    {
     "data": {
      "text/plain": [
       "<matplotlib.text.Text at 0x1daf9f723c8>"
      ]
     },
     "execution_count": 246,
     "metadata": {},
     "output_type": "execute_result"
    },
    {
     "data": {
      "image/png": "[encoded data removed]",
      "text/plain": [
       "<matplotlib.figure.Figure at 0x1da88c1f470>"
      ]
     },
     "metadata": {},
     "output_type": "display_data"
    }
   ],
   "source": [
    "#######################################################################################################################\n",
    "#######################################################################################################################\n",
    "\n",
    "\n",
    "#Renda média dos aposentados\n",
    "renda_ap = tab.Renda[tab.Aposentado == \"Sim\"]\n",
    "renda_ap.describe()\n",
    "\n",
    "#Plotando a RM\n",
    "renda_ap.plot.hist(bins=faixa2, normed=1, color=\"yellow\", figsize = (8, 8))\n",
    "plt.title(\"Renda Média dos Aposentados\")\n",
    "plt.xlabel(\"Renda Mensal (reais)\")\n",
    "plt.ylabel(\"Frequência Relativa\")\n",
    "\n",
    "#Plotando a RM\n",
    "tab.Renda.plot.hist(bins=faixa2, normed=1, color=\"lightblue\", figsize = (8, 5))\n",
    "plt.title(\"Histograma de Renda do Pais\")\n",
    "plt.xlabel(\"Renda Mensal (reais)\")\n",
    "plt.ylabel(\"Frequência relativa\")"
   ]
  },
  {
   "cell_type": "markdown",
   "metadata": {},
   "source": [
    "<p>O histograma acima é uma sobreposição de dois histogramas anteriores: Renda de Aposentados(Amarelo) x  Renda da Poupulação total (Azul Claro). Assim, podemos comparar com maior precisão a  diferença dos salários. </p>\n",
    "<p>Temos, então, a certeza de que aposentados têm a mediana da renda maior</p>"
   ]
  },
  {
   "cell_type": "markdown",
   "metadata": {},
   "source": [
    "<p>Além da renda e do IDH da região, um bom indicador seria a alfabetização que, além de medir a qualidade de vida,  indica também o nível de inserção dos aposentados na sociedade, visto que a habilidade de ler e escrever é tida como parte inerente da existência do homem como um ser social. </p>\n",
    "<p>A seguir, farei o gráfico de alfabetisação da população aposentada e da não-aposentada.</p>"
   ]
  },
  {
   "cell_type": "code",
   "execution_count": 247,
   "metadata": {
    "collapsed": false
   },
   "outputs": [
    {
     "data": {
      "text/plain": [
       "<matplotlib.text.Text at 0x1da987e2b70>"
      ]
     },
     "execution_count": 247,
     "metadata": {},
     "output_type": "execute_result"
    },
    {
     "data": {
      "image/png": "[encoded data removed]",
      "text/plain": [
       "<matplotlib.figure.Figure at 0x1da95209898>"
      ]
     },
     "metadata": {},
     "output_type": "display_data"
    }
   ],
   "source": [
    "rg_ni_idoso_A = pd.crosstab (notas.Região, [tab.Aposentado,tab.Alfabetizado])\n",
    "rg_ni_idoso_A_cut = rg_ni_idoso_A.iloc[:, :]\n",
    "\n",
    "rg_ni_idoso_A_cut.plot.bar(color=(\"lightyellow\", \"yellow\", \"lightblue\", \"darkcyan\"), stacked=False, figsize = (10,10))\n",
    "plt.title(\"Alfabetisação\")\n",
    "plt.xlabel(\"Região\")\n",
    "plt.ylabel(\"Habitantes\")"
   ]
  },
  {
   "cell_type": "markdown",
   "metadata": {},
   "source": [
    "<p>Como a diferença de população é bastante grande, uma representação em pizza seria melhor para analisar os valores relativos de alfabetização.</p>\n",
    "<p> Assim, farei um gráfico de Alfabetização da população aposentada e da população não-aposentada<p>"
   ]
  },
  {
   "cell_type": "code",
   "execution_count": 240,
   "metadata": {
    "collapsed": false
   },
   "outputs": [
    {
     "data": {
      "text/plain": [
       "<matplotlib.text.Text at 0x1da8a7cd128>"
      ]
     },
     "execution_count": 240,
     "metadata": {},
     "output_type": "execute_result"
    },
    {
     "data": {
      "image/png": "[encoded data removed]",
      "text/plain": [
       "<matplotlib.figure.Figure at 0x1da88c6e5f8>"
      ]
     },
     "metadata": {},
     "output_type": "display_data"
    }
   ],
   "source": [
    "ap_A = pd.crosstab (tab.Alfabetizado, tab.Aposentado)\n",
    "ap_A_cut = ap_A.iloc[:, 0:1]\n",
    "ap_A_cut\n",
    "\n",
    "ap_A_cut.plot(kind='pie', colors=('lightgreen', 'lightyellow'), autopct=\"%0.1f\",legend=True, subplots=True, figsize=(6,6))\n",
    "plt.title(\"Aposentados alfabetizados x não alfabetizados\")"
   ]
  },
  {
   "cell_type": "code",
   "execution_count": 241,
   "metadata": {
    "collapsed": false
   },
   "outputs": [
    {
     "data": {
      "text/plain": [
       "<matplotlib.text.Text at 0x1da91a896d8>"
      ]
     },
     "execution_count": 241,
     "metadata": {},
     "output_type": "execute_result"
    },
    {
     "data": {
      "image/png": "[encoded data removed]",
      "text/plain": [
       "<matplotlib.figure.Figure at 0x1da894a1780>"
      ]
     },
     "metadata": {},
     "output_type": "display_data"
    }
   ],
   "source": [
    "ap_A = pd.crosstab (tab.Alfabetizado, tab.Aposentado)\n",
    "nap_A_cut = ap_A.iloc[:, 1:2]\n",
    "nap_A_cut\n",
    "\n",
    "nap_A_cut.plot(kind='pie', colors=('lightcyan', 'lightblue'), autopct=\"%0.1f\",legend=True, subplots=True, figsize=(6,6))\n",
    "plt.title(\"Não-Aposentados alfabetizados x não alfabetizados\")"
   ]
  },
  {
   "cell_type": "markdown",
   "metadata": {},
   "source": [
    "<p> Se compararmos os gráficos, veremos que a população não-aposentada é mais alfabetizada que a população aposentada.</p>\n",
    "<p>Isso mostra que, no que diz respeito as condições de vida, de um modo geral, os aposentados estão em equilíbrio com o restante da sociedade, pois, ainda que tenham índices de analfabetismo maiores, recebem uma quantia superior e moram em lugares igualmente desenvolvidos. A renda maior é reflexo da existencia de um salário mínimo, que faz com que aposentados tenham um limite mínimo, independente da sua formação, mas trabalhadores clandestinos, não.</p>\n",
    "<p> Uma diferença na porcentagem de Alfabetização pode ser um indício de que exista uma \"Separação Social\" entre aposentados e não-aposentados. Para se ter mais certeza da análise, devemos comparar outros dados.</p>\n",
    "<p> Seguindo a linha de raciocínio, pegarei o dado que diz respeito ao uso de internet, pois esta é cada vez mais utilizada na sociedade e não ter o acesso à ela pode ser visto como um isolamento sócio-cultural</p>"
   ]
  },
  {
   "cell_type": "code",
   "execution_count": 242,
   "metadata": {
    "collapsed": false
   },
   "outputs": [
    {
     "data": {
      "text/plain": [
       "<matplotlib.text.Text at 0x1db4b7799e8>"
      ]
     },
     "execution_count": 242,
     "metadata": {},
     "output_type": "execute_result"
    },
    {
     "data": {
      "image/png": "[encoded data removed]",
      "text/plain": [
       "<matplotlib.figure.Figure at 0x1da89494828>"
      ]
     },
     "metadata": {},
     "output_type": "display_data"
    },
    {
     "data": {
      "image/png": "[encoded data removed]",
      "text/plain": [
       "<matplotlib.figure.Figure at 0x1da8c60d8d0>"
      ]
     },
     "metadata": {},
     "output_type": "display_data"
    }
   ],
   "source": [
    "ap_I = pd.crosstab(tab.Internet, tab.Aposentado)\n",
    "ap_I_cut = ap_I.iloc[0:2, 0:1]\n",
    "\n",
    "ap_I_cut.plot(kind='pie', colors=('lightgreen', 'white'), autopct=\"%0.1f\",legend=True, subplots=True, figsize=(6,6))\n",
    "plt.title(\"Aposentados X Acesso á Internet\")\n",
    "plt.ylabel(\"  \")\n",
    "\n",
    "\n",
    "nap_I = pd.crosstab(tab.Internet, tab.Jovem)\n",
    "nap_I_cut = nap_I.iloc[0:2, 1:2]\n",
    "\n",
    "nap_I_cut.plot(kind='pie', colors=('lightblue', 'white'), autopct=\"%0.1f\",legend=True, subplots=True, figsize=(6,6))\n",
    "plt.title(\"Não-Aposentados X Acesso á Internet\")\n",
    "plt.ylabel(\"  \")"
   ]
  },
  {
   "cell_type": "markdown",
   "metadata": {
    "collapsed": true
   },
   "source": [
    "<p>Como esperado, a quantidade de aposentados que usam a Internet é baixa. Esse número reforça a tese de que há uma exclusão social dos aposentados com o resto da sociedade.</p>\n",
    "<p>Para poder dar a resposta final com um pouco mais de embasamento, é necessário que mais dados sejam analisados.</p>\n",
    "<p>Assim, embasarei minha análise também na utilização de celulares pelos aposentados.</p>"
   ]
  },
  {
   "cell_type": "code",
   "execution_count": 243,
   "metadata": {
    "collapsed": false
   },
   "outputs": [
    {
     "data": {
      "text/plain": [
       "<matplotlib.text.Text at 0x1db3a3d0588>"
      ]
     },
     "execution_count": 243,
     "metadata": {},
     "output_type": "execute_result"
    },
    {
     "data": {
      "image/png": "[encoded data removed]",
      "text/plain": [
       "<matplotlib.figure.Figure at 0x1da99cdc4e0>"
      ]
     },
     "metadata": {},
     "output_type": "display_data"
    },
    {
     "data": {
      "image/png": "[encoded data removed]",
      "text/plain": [
       "<matplotlib.figure.Figure at 0x1da895f0a90>"
      ]
     },
     "metadata": {},
     "output_type": "display_data"
    }
   ],
   "source": [
    "ap_C = pd.crosstab(tab.Celular, tab.Aposentado)\n",
    "ap_C_cut = ap_C.iloc[0:2, 0:1]\n",
    "ap_C_cut\n",
    "\n",
    "ap_C_cut.plot(kind='pie', colors=('lightgreen', 'white'), autopct=\"%0.1f\",legend=False, subplots=True, figsize=(6,6))\n",
    "plt.title(\"Aposentados X Possuir Celular\")\n",
    "plt.ylabel(\"  \")\n",
    "\n",
    "\n",
    "\n",
    "nap_C = pd.crosstab(tab.Celular, tab.Aposentado)\n",
    "nap_C_cut = nap_C.iloc[0:2, 1:2]\n",
    "\n",
    "nap_C_cut.plot(kind='pie', colors=('lightblue', 'white'), autopct=\"%0.1f\",legend=False, subplots=True, figsize=(6,6))\n",
    "plt.title(\"Não-Aposentados X Possuir Celular\")\n",
    "plt.ylabel(\"  \")"
   ]
  },
  {
   "cell_type": "markdown",
   "metadata": {
    "collapsed": true
   },
   "source": [
    "<p>Novamente, percebemos uma grande discrepância entre a porcentagem de aposentados que é favorável ao, digamos, uso de tecnologia, e a porcentagem de não-aposentados que o é.</p>"
   ]
  },
  {
   "cell_type": "markdown",
   "metadata": {
    "collapsed": false
   },
   "source": [
    "___\n",
    "## Conclusão "
   ]
  },
  {
   "cell_type": "markdown",
   "metadata": {
    "collapsed": true
   },
   "source": [
    "<p>Dado isso, podemos concluir que, no quesito integração social, os aposentados estão em pior posição se comparados aos não aposentados. A renda mais alta e a localização semelhante do reste da população não é suficiente para que haja uma completa integração dessa parcela pela sociedade como um todo.</p>"
   ]
  }
 ],
 "metadata": {
  "anaconda-cloud": {},
  "kernelspec": {
   "display_name": "Python 3",
   "language": "python",
   "name": "python3"
  },
  "language_info": {
   "codemirror_mode": {
    "name": "ipython",
    "version": 3
   },
   "file_extension": ".py",
   "mimetype": "text/x-python",
   "name": "python",
   "nbconvert_exporter": "python",
   "pygments_lexer": "ipython3",
   "version": "3.5.2"
  }
 },
 "nbformat": 4,
 "nbformat_minor": 0
}
