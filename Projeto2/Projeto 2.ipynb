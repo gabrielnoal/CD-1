{
 "cells": [
  {
   "cell_type": "code",
   "execution_count": 19,
   "metadata": {
    "collapsed": false
   },
   "outputs": [],
   "source": [
    "%matplotlib inline\n",
    "from scipy.stats import t\n",
    "import numpy as np\n",
    "import matplotlib.pyplot as plt\n",
    "from scipy.stats import *\n",
    "\n"
   ]
  },
  {
   "cell_type": "code",
   "execution_count": 12,
   "metadata": {
    "collapsed": false,
    "scrolled": true
   },
   "outputs": [
    {
     "data": {
      "image/png": "[encoded data removed]",
      "text/plain": [
       "<matplotlib.figure.Figure at 0x22971d9eda0>"
      ]
     },
     "metadata": {},
     "output_type": "display_data"
    }
   ],
   "source": [
    "fig, ax = plt.subplots(1, 1)\n",
    "df = 5\n",
    "#mean, var, skew, kurt = t.stats(df, moments='mvsk')\n",
    "x = np.linspace(t.ppf(0.01, df), t.ppf(0.99, df), 100)\n",
    "plt.plot(x, t.pdf(x, df))\n",
    "#plt.plot(x,norm.pdf(x,loc=0,scale=1))\n",
    "plt.show()\n"
   ]
  },
  {
   "cell_type": "code",
   "execution_count": 13,
   "metadata": {
    "collapsed": false,
    "scrolled": true
   },
   "outputs": [
    {
     "name": "stdout",
     "output_type": "stream",
     "text": [
      "[ 0.00276527  0.00328033  0.00388494  0.00459311  0.00542063  0.0063853\n",
      "  0.00750701  0.00880788  0.01031239  0.01204747  0.0140425   0.01632935\n",
      "  0.01894231  0.02191791  0.02529477  0.02911323  0.03341492  0.03824226\n",
      "  0.04363775  0.04964313  0.0562985   0.06364117  0.07170447  0.08051643\n",
      "  0.09009834  0.10046329  0.11161461  0.12354444  0.13623227  0.14964364\n",
      "  0.16372905  0.17842307  0.19364387  0.20929296  0.22525554  0.24140118\n",
      "  0.25758508  0.27364979  0.2894275   0.30474273  0.3194155   0.33326482\n",
      "  0.3461125   0.35778701  0.36812751  0.37698762  0.38423911  0.38977512\n",
      "  0.39351292  0.39539611  0.39539611  0.39351292  0.38977512  0.38423911\n",
      "  0.37698762  0.36812751  0.35778701  0.3461125   0.33326482  0.3194155\n",
      "  0.30474273  0.2894275   0.27364979  0.25758508  0.24140118  0.22525554\n",
      "  0.20929296  0.19364387  0.17842307  0.16372905  0.14964364  0.13623227\n",
      "  0.12354444  0.11161461  0.10046329  0.09009834  0.08051643  0.07170447\n",
      "  0.06364117  0.0562985   0.04964313  0.04363775  0.03824226  0.03341492\n",
      "  0.02911323  0.02529477  0.02191791  0.01894231  0.01632935  0.0140425\n",
      "  0.01204747  0.01031239  0.00880788  0.00750701  0.0063853   0.00542063\n",
      "  0.00459311  0.00388494  0.00328033  0.00276527]\n",
      "Desv. pad 0.138148999878\n",
      "Variância: 0.0190851461674\n"
     ]
    }
   ],
   "source": [
    "df2 = 30\n",
    "w = t.pdf(x, df2)\n",
    "\n",
    "print (w)\n",
    "print ('Desv. pad', np.std(w))\n",
    "var = np.std(w)**2\n",
    "print ('Variância:', var)\n",
    "#phi = (len(w) -1)\n",
    "#print ('Grau de liberdade:', phi)"
   ]
  },
  {
   "cell_type": "code",
   "execution_count": 14,
   "metadata": {
    "collapsed": false
   },
   "outputs": [
    {
     "data": {
      "image/png": "[encoded data removed]",
      "text/plain": [
       "<matplotlib.figure.Figure at 0x22971ead9b0>"
      ]
     },
     "metadata": {},
     "output_type": "display_data"
    }
   ],
   "source": [
    "plt.plot(x, w)\n",
    "plt.plot(x, t.pdf(x, df))\n",
    "plt.show()"
   ]
  },
  {
   "cell_type": "code",
   "execution_count": null,
   "metadata": {
    "collapsed": true
   },
   "outputs": [],
   "source": []
  },
  {
   "cell_type": "code",
   "execution_count": 16,
   "metadata": {
    "collapsed": false
   },
   "outputs": [],
   "source": [
    "sorteio = norm.rvs(loc=0, scale=1, size=1000000, random_state=None)"
   ]
  },
  {
   "cell_type": "code",
   "execution_count": 97,
   "metadata": {
    "collapsed": false
   },
   "outputs": [],
   "source": [
    "r = t.rvs(30, size=100)\n",
    "\n",
    "x = np.linspace(r.min(), r.max(), 100)\n",
    "#print (x)"
   ]
  },
  {
   "cell_type": "code",
   "execution_count": 99,
   "metadata": {
    "collapsed": false
   },
   "outputs": [],
   "source": [
    "#print (w)"
   ]
  },
  {
   "cell_type": "code",
   "execution_count": 100,
   "metadata": {
    "collapsed": false
   },
   "outputs": [],
   "source": [
    "ax.hist(r, normed=True)\n",
    "plt.show()"
   ]
  },
  {
   "cell_type": "code",
   "execution_count": null,
   "metadata": {
    "collapsed": true
   },
   "outputs": [],
   "source": []
  },
  {
   "cell_type": "code",
   "execution_count": 103,
   "metadata": {
    "collapsed": false
   },
   "outputs": [
    {
     "data": {
      "text/plain": [
       "'\\ntempos_A = list(dataframe_resumo[dataframe_resumo.versao==\"A\"].delta_t)\\ntempos_B = list(dataframe_resumo[dataframe_resumo.versao==\"B\"].delta_t)\\nplt.hist(tempos_A, bins=10)\\nplt.hist(tempos_B, bins=10, alpha=0.5)'"
      ]
     },
     "execution_count": 103,
     "metadata": {},
     "output_type": "execute_result"
    }
   ],
   "source": [
    "'''\n",
    "tempos_A = list(dataframe_resumo[dataframe_resumo.versao==\"A\"].delta_t)\n",
    "tempos_B = list(dataframe_resumo[dataframe_resumo.versao==\"B\"].delta_t)\n",
    "plt.hist(tempos_A, bins=10)\n",
    "plt.hist(tempos_B, bins=10, alpha=0.5)'''\n"
   ]
  },
  {
   "cell_type": "code",
   "execution_count": null,
   "metadata": {
    "collapsed": true
   },
   "outputs": [],
   "source": []
  },
  {
   "cell_type": "code",
   "execution_count": null,
   "metadata": {
    "collapsed": true
   },
   "outputs": [],
   "source": []
  }
 ],
 "metadata": {
  "kernelspec": {
   "display_name": "Python 3",
   "language": "python",
   "name": "python3"
  },
  "language_info": {
   "codemirror_mode": {
    "name": "ipython",
    "version": 3
   },
   "file_extension": ".py",
   "mimetype": "text/x-python",
   "name": "python",
   "nbconvert_exporter": "python",
   "pygments_lexer": "ipython3",
   "version": "3.5.2"
  }
 },
 "nbformat": 4,
 "nbformat_minor": 0
}
