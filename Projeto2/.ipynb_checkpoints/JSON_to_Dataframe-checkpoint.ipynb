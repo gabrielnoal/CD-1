{
 "cells": [
  {
   "cell_type": "code",
   "execution_count": 111,
   "metadata": {
    "collapsed": true
   },
   "outputs": [],
   "source": [
    "import pandas as pd\n",
    "import json\n",
    "import itertools\n",
    "import matplotlib.pyplot as plt\n",
    "%matplotlib inline\n",
    "import numpy as np\n",
    "import scipy.stats"
   ]
  },
  {
   "cell_type": "code",
   "execution_count": 112,
   "metadata": {
    "collapsed": false
   },
   "outputs": [],
   "source": [
    "arquivo = open(\"amber-heat-9880-export.json\")\n",
    "linhas = arquivo.readlines()\n",
    "texto = \"\".join(linhas)\n",
    "dados_fire = json.loads(texto)"
   ]
  },
  {
   "cell_type": "code",
   "execution_count": 113,
   "metadata": {
    "collapsed": false
   },
   "outputs": [],
   "source": [
    "for k,v in dados_fire[\"logs\"].items():\n",
    "    # print(k,v) # habilite para imprimir as chaves de mais alto nível\n",
    "    for chave, valor in v.items():\n",
    "        # print(chave, valor) # habilite para imprimir as chaves inferiores\n",
    "        pass # desabilite quando reabilitar a linha de cima"
   ]
  },
  {
   "cell_type": "code",
   "execution_count": 114,
   "metadata": {
    "collapsed": true
   },
   "outputs": [],
   "source": [
    "lista_dicionarios = []\n",
    "\n",
    "for k,v in dados_fire[\"logs\"].items():\n",
    "    lista_dicionarios.append(v)"
   ]
  },
  {
   "cell_type": "code",
   "execution_count": 115,
   "metadata": {
    "collapsed": true
   },
   "outputs": [],
   "source": [
    "dataframe = pd.DataFrame.from_records(lista_dicionarios)"
   ]
  },
  {
   "cell_type": "code",
   "execution_count": 116,
   "metadata": {
    "collapsed": false
   },
   "outputs": [
    {
     "data": {
      "text/html": [
       "<div>\n",
       "<table border=\"1\" class=\"dataframe\">\n",
       "  <thead>\n",
       "    <tr style=\"text-align: right;\">\n",
       "      <th></th>\n",
       "      <th>tempo</th>\n",
       "      <th>tipo</th>\n",
       "      <th>user_id</th>\n",
       "      <th>versao</th>\n",
       "    </tr>\n",
       "  </thead>\n",
       "  <tbody>\n",
       "    <tr>\n",
       "      <th>0</th>\n",
       "      <td>1479314413137</td>\n",
       "      <td>final</td>\n",
       "      <td>2754007705</td>\n",
       "      <td>B</td>\n",
       "    </tr>\n",
       "    <tr>\n",
       "      <th>1</th>\n",
       "      <td>1479334139633</td>\n",
       "      <td>inicio</td>\n",
       "      <td>3821711656</td>\n",
       "      <td>A</td>\n",
       "    </tr>\n",
       "    <tr>\n",
       "      <th>2</th>\n",
       "      <td>1479313593732</td>\n",
       "      <td>inicio</td>\n",
       "      <td>777092727</td>\n",
       "      <td>A</td>\n",
       "    </tr>\n",
       "    <tr>\n",
       "      <th>3</th>\n",
       "      <td>1479320178206</td>\n",
       "      <td>inicio</td>\n",
       "      <td>1760317513</td>\n",
       "      <td>B</td>\n",
       "    </tr>\n",
       "    <tr>\n",
       "      <th>4</th>\n",
       "      <td>1479320234523</td>\n",
       "      <td>inicio</td>\n",
       "      <td>1760317513</td>\n",
       "      <td>B</td>\n",
       "    </tr>\n",
       "    <tr>\n",
       "      <th>5</th>\n",
       "      <td>1479326608878</td>\n",
       "      <td>inicio</td>\n",
       "      <td>3642268329</td>\n",
       "      <td>B</td>\n",
       "    </tr>\n",
       "    <tr>\n",
       "      <th>6</th>\n",
       "      <td>1479311996409</td>\n",
       "      <td>inicio</td>\n",
       "      <td>632896313</td>\n",
       "      <td>A</td>\n",
       "    </tr>\n",
       "    <tr>\n",
       "      <th>7</th>\n",
       "      <td>1479311976841</td>\n",
       "      <td>inicio</td>\n",
       "      <td>1690681371</td>\n",
       "      <td>A</td>\n",
       "    </tr>\n",
       "    <tr>\n",
       "      <th>8</th>\n",
       "      <td>1478614188868</td>\n",
       "      <td>inicio</td>\n",
       "      <td>2820165946</td>\n",
       "      <td>B</td>\n",
       "    </tr>\n",
       "    <tr>\n",
       "      <th>9</th>\n",
       "      <td>1479326639681</td>\n",
       "      <td>final</td>\n",
       "      <td>3642268329</td>\n",
       "      <td>B</td>\n",
       "    </tr>\n",
       "    <tr>\n",
       "      <th>10</th>\n",
       "      <td>1479333495727</td>\n",
       "      <td>inicio</td>\n",
       "      <td>1398527286</td>\n",
       "      <td>A</td>\n",
       "    </tr>\n",
       "    <tr>\n",
       "      <th>11</th>\n",
       "      <td>1479336819974</td>\n",
       "      <td>final</td>\n",
       "      <td>67376665</td>\n",
       "      <td>B</td>\n",
       "    </tr>\n",
       "    <tr>\n",
       "      <th>12</th>\n",
       "      <td>1479320150745</td>\n",
       "      <td>inicio</td>\n",
       "      <td>1760317513</td>\n",
       "      <td>B</td>\n",
       "    </tr>\n",
       "    <tr>\n",
       "      <th>13</th>\n",
       "      <td>1479313961366</td>\n",
       "      <td>inicio</td>\n",
       "      <td>3319278301</td>\n",
       "      <td>B</td>\n",
       "    </tr>\n",
       "    <tr>\n",
       "      <th>14</th>\n",
       "      <td>1479314182585</td>\n",
       "      <td>inicio</td>\n",
       "      <td>777092727</td>\n",
       "      <td>B</td>\n",
       "    </tr>\n",
       "    <tr>\n",
       "      <th>15</th>\n",
       "      <td>1479315772235</td>\n",
       "      <td>inicio</td>\n",
       "      <td>1521736471</td>\n",
       "      <td>A</td>\n",
       "    </tr>\n",
       "    <tr>\n",
       "      <th>16</th>\n",
       "      <td>1479313304990</td>\n",
       "      <td>inicio</td>\n",
       "      <td>1592894710</td>\n",
       "      <td>B</td>\n",
       "    </tr>\n",
       "    <tr>\n",
       "      <th>17</th>\n",
       "      <td>1479319984260</td>\n",
       "      <td>inicio</td>\n",
       "      <td>63178631</td>\n",
       "      <td>B</td>\n",
       "    </tr>\n",
       "    <tr>\n",
       "      <th>18</th>\n",
       "      <td>1479325168174</td>\n",
       "      <td>inicio</td>\n",
       "      <td>2929164856</td>\n",
       "      <td>B</td>\n",
       "    </tr>\n",
       "    <tr>\n",
       "      <th>19</th>\n",
       "      <td>1479325959322</td>\n",
       "      <td>inicio</td>\n",
       "      <td>3139073344</td>\n",
       "      <td>B</td>\n",
       "    </tr>\n",
       "    <tr>\n",
       "      <th>20</th>\n",
       "      <td>1478909374157</td>\n",
       "      <td>inicio</td>\n",
       "      <td>3789181448</td>\n",
       "      <td>A</td>\n",
       "    </tr>\n",
       "    <tr>\n",
       "      <th>21</th>\n",
       "      <td>1479315569314</td>\n",
       "      <td>inicio</td>\n",
       "      <td>398226280</td>\n",
       "      <td>B</td>\n",
       "    </tr>\n",
       "    <tr>\n",
       "      <th>22</th>\n",
       "      <td>1479045616158</td>\n",
       "      <td>inicio</td>\n",
       "      <td>2003045138</td>\n",
       "      <td>B</td>\n",
       "    </tr>\n",
       "    <tr>\n",
       "      <th>23</th>\n",
       "      <td>1478966413971</td>\n",
       "      <td>inicio</td>\n",
       "      <td>3789181448</td>\n",
       "      <td>B</td>\n",
       "    </tr>\n",
       "    <tr>\n",
       "      <th>24</th>\n",
       "      <td>1479315131530</td>\n",
       "      <td>inicio</td>\n",
       "      <td>4187013443</td>\n",
       "      <td>B</td>\n",
       "    </tr>\n",
       "    <tr>\n",
       "      <th>25</th>\n",
       "      <td>1478966449666</td>\n",
       "      <td>final</td>\n",
       "      <td>3789181448</td>\n",
       "      <td>B</td>\n",
       "    </tr>\n",
       "    <tr>\n",
       "      <th>26</th>\n",
       "      <td>1479321245643</td>\n",
       "      <td>inicio</td>\n",
       "      <td>1507825581</td>\n",
       "      <td>A</td>\n",
       "    </tr>\n",
       "    <tr>\n",
       "      <th>27</th>\n",
       "      <td>1479346114852</td>\n",
       "      <td>final</td>\n",
       "      <td>791416698</td>\n",
       "      <td>A</td>\n",
       "    </tr>\n",
       "    <tr>\n",
       "      <th>28</th>\n",
       "      <td>1479318089689</td>\n",
       "      <td>final</td>\n",
       "      <td>3282163375</td>\n",
       "      <td>A</td>\n",
       "    </tr>\n",
       "    <tr>\n",
       "      <th>29</th>\n",
       "      <td>1479336794752</td>\n",
       "      <td>inicio</td>\n",
       "      <td>67376665</td>\n",
       "      <td>B</td>\n",
       "    </tr>\n",
       "    <tr>\n",
       "      <th>...</th>\n",
       "      <td>...</td>\n",
       "      <td>...</td>\n",
       "      <td>...</td>\n",
       "      <td>...</td>\n",
       "    </tr>\n",
       "    <tr>\n",
       "      <th>141</th>\n",
       "      <td>1479342274855</td>\n",
       "      <td>inicio</td>\n",
       "      <td>1605937915</td>\n",
       "      <td>B</td>\n",
       "    </tr>\n",
       "    <tr>\n",
       "      <th>142</th>\n",
       "      <td>1478996013941</td>\n",
       "      <td>final</td>\n",
       "      <td>3999542713</td>\n",
       "      <td>A</td>\n",
       "    </tr>\n",
       "    <tr>\n",
       "      <th>143</th>\n",
       "      <td>1479323255849</td>\n",
       "      <td>inicio</td>\n",
       "      <td>4187013443</td>\n",
       "      <td>B</td>\n",
       "    </tr>\n",
       "    <tr>\n",
       "      <th>144</th>\n",
       "      <td>1479319337553</td>\n",
       "      <td>inicio</td>\n",
       "      <td>3474261213</td>\n",
       "      <td>B</td>\n",
       "    </tr>\n",
       "    <tr>\n",
       "      <th>145</th>\n",
       "      <td>1478646728554</td>\n",
       "      <td>final</td>\n",
       "      <td>3299522247</td>\n",
       "      <td>B</td>\n",
       "    </tr>\n",
       "    <tr>\n",
       "      <th>146</th>\n",
       "      <td>1478996003269</td>\n",
       "      <td>inicio</td>\n",
       "      <td>3999542713</td>\n",
       "      <td>A</td>\n",
       "    </tr>\n",
       "    <tr>\n",
       "      <th>147</th>\n",
       "      <td>1479331324894</td>\n",
       "      <td>inicio</td>\n",
       "      <td>2846377697</td>\n",
       "      <td>B</td>\n",
       "    </tr>\n",
       "    <tr>\n",
       "      <th>148</th>\n",
       "      <td>1478647213870</td>\n",
       "      <td>final</td>\n",
       "      <td>3688875147</td>\n",
       "      <td>B</td>\n",
       "    </tr>\n",
       "    <tr>\n",
       "      <th>149</th>\n",
       "      <td>1478613989159</td>\n",
       "      <td>inicio</td>\n",
       "      <td>2820165946</td>\n",
       "      <td>B</td>\n",
       "    </tr>\n",
       "    <tr>\n",
       "      <th>150</th>\n",
       "      <td>1479312035341</td>\n",
       "      <td>inicio</td>\n",
       "      <td>3282163375</td>\n",
       "      <td>A</td>\n",
       "    </tr>\n",
       "    <tr>\n",
       "      <th>151</th>\n",
       "      <td>1479335347338</td>\n",
       "      <td>inicio</td>\n",
       "      <td>1825023571</td>\n",
       "      <td>B</td>\n",
       "    </tr>\n",
       "    <tr>\n",
       "      <th>152</th>\n",
       "      <td>1478995940458</td>\n",
       "      <td>inicio</td>\n",
       "      <td>3999542713</td>\n",
       "      <td>B</td>\n",
       "    </tr>\n",
       "    <tr>\n",
       "      <th>153</th>\n",
       "      <td>1479319746635</td>\n",
       "      <td>final</td>\n",
       "      <td>1425122429</td>\n",
       "      <td>B</td>\n",
       "    </tr>\n",
       "    <tr>\n",
       "      <th>154</th>\n",
       "      <td>1478977225179</td>\n",
       "      <td>inicio</td>\n",
       "      <td>3673900812</td>\n",
       "      <td>A</td>\n",
       "    </tr>\n",
       "    <tr>\n",
       "      <th>155</th>\n",
       "      <td>1479312972657</td>\n",
       "      <td>inicio</td>\n",
       "      <td>3418847492</td>\n",
       "      <td>B</td>\n",
       "    </tr>\n",
       "    <tr>\n",
       "      <th>156</th>\n",
       "      <td>1479314002382</td>\n",
       "      <td>final</td>\n",
       "      <td>3319278301</td>\n",
       "      <td>B</td>\n",
       "    </tr>\n",
       "    <tr>\n",
       "      <th>157</th>\n",
       "      <td>1479313519621</td>\n",
       "      <td>inicio</td>\n",
       "      <td>777092727</td>\n",
       "      <td>A</td>\n",
       "    </tr>\n",
       "    <tr>\n",
       "      <th>158</th>\n",
       "      <td>1479312564753</td>\n",
       "      <td>inicio</td>\n",
       "      <td>3839108837</td>\n",
       "      <td>B</td>\n",
       "    </tr>\n",
       "    <tr>\n",
       "      <th>159</th>\n",
       "      <td>1478909301406</td>\n",
       "      <td>inicio</td>\n",
       "      <td>3789181448</td>\n",
       "      <td>A</td>\n",
       "    </tr>\n",
       "    <tr>\n",
       "      <th>160</th>\n",
       "      <td>1479313478067</td>\n",
       "      <td>inicio</td>\n",
       "      <td>1396222414</td>\n",
       "      <td>A</td>\n",
       "    </tr>\n",
       "    <tr>\n",
       "      <th>161</th>\n",
       "      <td>1479315940507</td>\n",
       "      <td>final</td>\n",
       "      <td>1450913925</td>\n",
       "      <td>B</td>\n",
       "    </tr>\n",
       "    <tr>\n",
       "      <th>162</th>\n",
       "      <td>1478647194739</td>\n",
       "      <td>final</td>\n",
       "      <td>3688875147</td>\n",
       "      <td>B</td>\n",
       "    </tr>\n",
       "    <tr>\n",
       "      <th>163</th>\n",
       "      <td>1479313252575</td>\n",
       "      <td>inicio</td>\n",
       "      <td>2159991811</td>\n",
       "      <td>A</td>\n",
       "    </tr>\n",
       "    <tr>\n",
       "      <th>164</th>\n",
       "      <td>1479316813654</td>\n",
       "      <td>inicio</td>\n",
       "      <td>291083627</td>\n",
       "      <td>B</td>\n",
       "    </tr>\n",
       "    <tr>\n",
       "      <th>165</th>\n",
       "      <td>1479319475161</td>\n",
       "      <td>inicio</td>\n",
       "      <td>1551627452</td>\n",
       "      <td>B</td>\n",
       "    </tr>\n",
       "    <tr>\n",
       "      <th>166</th>\n",
       "      <td>1479314729017</td>\n",
       "      <td>inicio</td>\n",
       "      <td>2260761370</td>\n",
       "      <td>B</td>\n",
       "    </tr>\n",
       "    <tr>\n",
       "      <th>167</th>\n",
       "      <td>1479316118421</td>\n",
       "      <td>inicio</td>\n",
       "      <td>3810024924</td>\n",
       "      <td>B</td>\n",
       "    </tr>\n",
       "    <tr>\n",
       "      <th>168</th>\n",
       "      <td>1479315155349</td>\n",
       "      <td>inicio</td>\n",
       "      <td>4187013443</td>\n",
       "      <td>A</td>\n",
       "    </tr>\n",
       "    <tr>\n",
       "      <th>169</th>\n",
       "      <td>1479346104300</td>\n",
       "      <td>inicio</td>\n",
       "      <td>791416698</td>\n",
       "      <td>A</td>\n",
       "    </tr>\n",
       "    <tr>\n",
       "      <th>170</th>\n",
       "      <td>1478970125038</td>\n",
       "      <td>inicio</td>\n",
       "      <td>3999542713</td>\n",
       "      <td>B</td>\n",
       "    </tr>\n",
       "  </tbody>\n",
       "</table>\n",
       "<p>171 rows × 4 columns</p>\n",
       "</div>"
      ],
      "text/plain": [
       "             tempo    tipo     user_id versao\n",
       "0    1479314413137   final  2754007705      B\n",
       "1    1479334139633  inicio  3821711656      A\n",
       "2    1479313593732  inicio   777092727      A\n",
       "3    1479320178206  inicio  1760317513      B\n",
       "4    1479320234523  inicio  1760317513      B\n",
       "5    1479326608878  inicio  3642268329      B\n",
       "6    1479311996409  inicio   632896313      A\n",
       "7    1479311976841  inicio  1690681371      A\n",
       "8    1478614188868  inicio  2820165946      B\n",
       "9    1479326639681   final  3642268329      B\n",
       "10   1479333495727  inicio  1398527286      A\n",
       "11   1479336819974   final    67376665      B\n",
       "12   1479320150745  inicio  1760317513      B\n",
       "13   1479313961366  inicio  3319278301      B\n",
       "14   1479314182585  inicio   777092727      B\n",
       "15   1479315772235  inicio  1521736471      A\n",
       "16   1479313304990  inicio  1592894710      B\n",
       "17   1479319984260  inicio    63178631      B\n",
       "18   1479325168174  inicio  2929164856      B\n",
       "19   1479325959322  inicio  3139073344      B\n",
       "20   1478909374157  inicio  3789181448      A\n",
       "21   1479315569314  inicio   398226280      B\n",
       "22   1479045616158  inicio  2003045138      B\n",
       "23   1478966413971  inicio  3789181448      B\n",
       "24   1479315131530  inicio  4187013443      B\n",
       "25   1478966449666   final  3789181448      B\n",
       "26   1479321245643  inicio  1507825581      A\n",
       "27   1479346114852   final   791416698      A\n",
       "28   1479318089689   final  3282163375      A\n",
       "29   1479336794752  inicio    67376665      B\n",
       "..             ...     ...         ...    ...\n",
       "141  1479342274855  inicio  1605937915      B\n",
       "142  1478996013941   final  3999542713      A\n",
       "143  1479323255849  inicio  4187013443      B\n",
       "144  1479319337553  inicio  3474261213      B\n",
       "145  1478646728554   final  3299522247      B\n",
       "146  1478996003269  inicio  3999542713      A\n",
       "147  1479331324894  inicio  2846377697      B\n",
       "148  1478647213870   final  3688875147      B\n",
       "149  1478613989159  inicio  2820165946      B\n",
       "150  1479312035341  inicio  3282163375      A\n",
       "151  1479335347338  inicio  1825023571      B\n",
       "152  1478995940458  inicio  3999542713      B\n",
       "153  1479319746635   final  1425122429      B\n",
       "154  1478977225179  inicio  3673900812      A\n",
       "155  1479312972657  inicio  3418847492      B\n",
       "156  1479314002382   final  3319278301      B\n",
       "157  1479313519621  inicio   777092727      A\n",
       "158  1479312564753  inicio  3839108837      B\n",
       "159  1478909301406  inicio  3789181448      A\n",
       "160  1479313478067  inicio  1396222414      A\n",
       "161  1479315940507   final  1450913925      B\n",
       "162  1478647194739   final  3688875147      B\n",
       "163  1479313252575  inicio  2159991811      A\n",
       "164  1479316813654  inicio   291083627      B\n",
       "165  1479319475161  inicio  1551627452      B\n",
       "166  1479314729017  inicio  2260761370      B\n",
       "167  1479316118421  inicio  3810024924      B\n",
       "168  1479315155349  inicio  4187013443      A\n",
       "169  1479346104300  inicio   791416698      A\n",
       "170  1478970125038  inicio  3999542713      B\n",
       "\n",
       "[171 rows x 4 columns]"
      ]
     },
     "execution_count": 116,
     "metadata": {},
     "output_type": "execute_result"
    }
   ],
   "source": [
    "dataframe\n"
   ]
  },
  {
   "cell_type": "code",
   "execution_count": 117,
   "metadata": {
    "collapsed": true
   },
   "outputs": [],
   "source": [
    "agrupado = dataframe.groupby(by=[\"user_id\", \"versao\"])\n"
   ]
  },
  {
   "cell_type": "code",
   "execution_count": 118,
   "metadata": {
    "collapsed": true
   },
   "outputs": [],
   "source": [
    "users = set(dataframe.user_id) # We convert it to a set so that each user appear only once\n"
   ]
  },
  {
   "cell_type": "code",
   "execution_count": 119,
   "metadata": {
    "collapsed": true
   },
   "outputs": [],
   "source": [
    "users = list(users) \n"
   ]
  },
  {
   "cell_type": "code",
   "execution_count": 120,
   "metadata": {
    "collapsed": true
   },
   "outputs": [],
   "source": [
    "\n",
    "resultados = []\n",
    "\n",
    "for u in users:\n",
    "    for versao in [\"A\", \"B\"]:\n",
    "        if (u, versao) in agrupado.groups.keys(): # Check if a specific pair user/type of test happened\n",
    "            grupo1 =  agrupado.get_group((u, versao))\n",
    "            grupo1 = grupo1.sort_values(by=\"tempo\") # Para evitar que inícios sem fim gerem tempos negativos\n",
    "            \n",
    "            if len(grupo1[grupo1.tipo==\"final\"])>= 1 and len(grupo1[grupo1.tipo==\"inicio\"]) >= 1:\n",
    "                delta_t = grupo1[grupo1.tipo==\"final\"].iloc[-1].tempo - grupo1[grupo1.tipo==\"inicio\"].iloc[0].tempo\n",
    "                resultados.append({\"user_id\":u, \"delta_t\":delta_t, \"versao\":versao})\n",
    "            "
   ]
  },
  {
   "cell_type": "code",
   "execution_count": 121,
   "metadata": {
    "collapsed": false
   },
   "outputs": [
    {
     "data": {
      "text/html": [
       "<div>\n",
       "<table border=\"1\" class=\"dataframe\">\n",
       "  <thead>\n",
       "    <tr style=\"text-align: right;\">\n",
       "      <th></th>\n",
       "      <th>tempo</th>\n",
       "      <th>tipo</th>\n",
       "      <th>user_id</th>\n",
       "      <th>versao</th>\n",
       "    </tr>\n",
       "  </thead>\n",
       "  <tbody>\n",
       "    <tr>\n",
       "      <th>69</th>\n",
       "      <td>1479312807347</td>\n",
       "      <td>inicio</td>\n",
       "      <td>760489599</td>\n",
       "      <td>B</td>\n",
       "    </tr>\n",
       "  </tbody>\n",
       "</table>\n",
       "</div>"
      ],
      "text/plain": [
       "            tempo    tipo    user_id versao\n",
       "69  1479312807347  inicio  760489599      B"
      ]
     },
     "execution_count": 121,
     "metadata": {},
     "output_type": "execute_result"
    }
   ],
   "source": [
    "grupo1.sort_values(by=\"tempo\")\n"
   ]
  },
  {
   "cell_type": "code",
   "execution_count": 122,
   "metadata": {
    "collapsed": true
   },
   "outputs": [],
   "source": [
    "dataframe_resumo = pd.DataFrame.from_records(resultados)\n"
   ]
  },
  {
   "cell_type": "code",
   "execution_count": 123,
   "metadata": {
    "collapsed": true
   },
   "outputs": [],
   "source": [
    "dataframe_resumo.delta_t/=1000 # Convertendo milissegundos em segundos\n"
   ]
  },
  {
   "cell_type": "code",
   "execution_count": 124,
   "metadata": {
    "collapsed": false
   },
   "outputs": [
    {
     "data": {
      "text/html": [
       "<div>\n",
       "<table border=\"1\" class=\"dataframe\">\n",
       "  <thead>\n",
       "    <tr style=\"text-align: right;\">\n",
       "      <th></th>\n",
       "      <th>delta_t</th>\n",
       "      <th>user_id</th>\n",
       "      <th>versao</th>\n",
       "    </tr>\n",
       "  </thead>\n",
       "  <tbody>\n",
       "    <tr>\n",
       "      <th>0</th>\n",
       "      <td>23.433</td>\n",
       "      <td>1561760900</td>\n",
       "      <td>A</td>\n",
       "    </tr>\n",
       "    <tr>\n",
       "      <th>1</th>\n",
       "      <td>10.218</td>\n",
       "      <td>1450913925</td>\n",
       "      <td>B</td>\n",
       "    </tr>\n",
       "    <tr>\n",
       "      <th>2</th>\n",
       "      <td>27387.295</td>\n",
       "      <td>63178631</td>\n",
       "      <td>A</td>\n",
       "    </tr>\n",
       "    <tr>\n",
       "      <th>3</th>\n",
       "      <td>35.695</td>\n",
       "      <td>3789181448</td>\n",
       "      <td>B</td>\n",
       "    </tr>\n",
       "    <tr>\n",
       "      <th>4</th>\n",
       "      <td>68.229</td>\n",
       "      <td>3688875147</td>\n",
       "      <td>B</td>\n",
       "    </tr>\n",
       "    <tr>\n",
       "      <th>5</th>\n",
       "      <td>96.267</td>\n",
       "      <td>2873078540</td>\n",
       "      <td>B</td>\n",
       "    </tr>\n",
       "    <tr>\n",
       "      <th>6</th>\n",
       "      <td>55.992</td>\n",
       "      <td>212358778</td>\n",
       "      <td>B</td>\n",
       "    </tr>\n",
       "    <tr>\n",
       "      <th>7</th>\n",
       "      <td>25.222</td>\n",
       "      <td>67376665</td>\n",
       "      <td>B</td>\n",
       "    </tr>\n",
       "    <tr>\n",
       "      <th>8</th>\n",
       "      <td>79.083</td>\n",
       "      <td>2754007705</td>\n",
       "      <td>B</td>\n",
       "    </tr>\n",
       "    <tr>\n",
       "      <th>9</th>\n",
       "      <td>79.994</td>\n",
       "      <td>2777860250</td>\n",
       "      <td>A</td>\n",
       "    </tr>\n",
       "    <tr>\n",
       "      <th>10</th>\n",
       "      <td>167.677</td>\n",
       "      <td>3208358050</td>\n",
       "      <td>B</td>\n",
       "    </tr>\n",
       "    <tr>\n",
       "      <th>11</th>\n",
       "      <td>64.083</td>\n",
       "      <td>3642268329</td>\n",
       "      <td>B</td>\n",
       "    </tr>\n",
       "    <tr>\n",
       "      <th>12</th>\n",
       "      <td>6054.348</td>\n",
       "      <td>3282163375</td>\n",
       "      <td>A</td>\n",
       "    </tr>\n",
       "    <tr>\n",
       "      <th>13</th>\n",
       "      <td>154.058</td>\n",
       "      <td>373987122</td>\n",
       "      <td>A</td>\n",
       "    </tr>\n",
       "    <tr>\n",
       "      <th>14</th>\n",
       "      <td>26.184</td>\n",
       "      <td>3194893365</td>\n",
       "      <td>A</td>\n",
       "    </tr>\n",
       "    <tr>\n",
       "      <th>15</th>\n",
       "      <td>36.990</td>\n",
       "      <td>3194893365</td>\n",
       "      <td>B</td>\n",
       "    </tr>\n",
       "    <tr>\n",
       "      <th>16</th>\n",
       "      <td>36.481</td>\n",
       "      <td>1398527286</td>\n",
       "      <td>A</td>\n",
       "    </tr>\n",
       "    <tr>\n",
       "      <th>17</th>\n",
       "      <td>2.896</td>\n",
       "      <td>2820165946</td>\n",
       "      <td>A</td>\n",
       "    </tr>\n",
       "    <tr>\n",
       "      <th>18</th>\n",
       "      <td>279.029</td>\n",
       "      <td>2820165946</td>\n",
       "      <td>B</td>\n",
       "    </tr>\n",
       "    <tr>\n",
       "      <th>19</th>\n",
       "      <td>253.450</td>\n",
       "      <td>3999542713</td>\n",
       "      <td>A</td>\n",
       "    </tr>\n",
       "    <tr>\n",
       "      <th>20</th>\n",
       "      <td>25844.858</td>\n",
       "      <td>3999542713</td>\n",
       "      <td>B</td>\n",
       "    </tr>\n",
       "    <tr>\n",
       "      <th>21</th>\n",
       "      <td>8185.544</td>\n",
       "      <td>4187013443</td>\n",
       "      <td>B</td>\n",
       "    </tr>\n",
       "    <tr>\n",
       "      <th>22</th>\n",
       "      <td>85.640</td>\n",
       "      <td>3299522247</td>\n",
       "      <td>B</td>\n",
       "    </tr>\n",
       "    <tr>\n",
       "      <th>23</th>\n",
       "      <td>494.495</td>\n",
       "      <td>1396222414</td>\n",
       "      <td>A</td>\n",
       "    </tr>\n",
       "    <tr>\n",
       "      <th>24</th>\n",
       "      <td>13.228</td>\n",
       "      <td>3810024924</td>\n",
       "      <td>A</td>\n",
       "    </tr>\n",
       "    <tr>\n",
       "      <th>25</th>\n",
       "      <td>41.016</td>\n",
       "      <td>3319278301</td>\n",
       "      <td>B</td>\n",
       "    </tr>\n",
       "    <tr>\n",
       "      <th>26</th>\n",
       "      <td>47.221</td>\n",
       "      <td>3474261213</td>\n",
       "      <td>B</td>\n",
       "    </tr>\n",
       "    <tr>\n",
       "      <th>27</th>\n",
       "      <td>25.899</td>\n",
       "      <td>3839108837</td>\n",
       "      <td>B</td>\n",
       "    </tr>\n",
       "    <tr>\n",
       "      <th>28</th>\n",
       "      <td>19.053</td>\n",
       "      <td>1383804776</td>\n",
       "      <td>A</td>\n",
       "    </tr>\n",
       "    <tr>\n",
       "      <th>29</th>\n",
       "      <td>139.500</td>\n",
       "      <td>158080108</td>\n",
       "      <td>B</td>\n",
       "    </tr>\n",
       "    <tr>\n",
       "      <th>30</th>\n",
       "      <td>16.358</td>\n",
       "      <td>3771874035</td>\n",
       "      <td>B</td>\n",
       "    </tr>\n",
       "    <tr>\n",
       "      <th>31</th>\n",
       "      <td>6646.542</td>\n",
       "      <td>777092727</td>\n",
       "      <td>A</td>\n",
       "    </tr>\n",
       "    <tr>\n",
       "      <th>32</th>\n",
       "      <td>47.233</td>\n",
       "      <td>777092727</td>\n",
       "      <td>B</td>\n",
       "    </tr>\n",
       "    <tr>\n",
       "      <th>33</th>\n",
       "      <td>10.552</td>\n",
       "      <td>791416698</td>\n",
       "      <td>A</td>\n",
       "    </tr>\n",
       "    <tr>\n",
       "      <th>34</th>\n",
       "      <td>20.499</td>\n",
       "      <td>1425122429</td>\n",
       "      <td>B</td>\n",
       "    </tr>\n",
       "  </tbody>\n",
       "</table>\n",
       "</div>"
      ],
      "text/plain": [
       "      delta_t     user_id versao\n",
       "0      23.433  1561760900      A\n",
       "1      10.218  1450913925      B\n",
       "2   27387.295    63178631      A\n",
       "3      35.695  3789181448      B\n",
       "4      68.229  3688875147      B\n",
       "5      96.267  2873078540      B\n",
       "6      55.992   212358778      B\n",
       "7      25.222    67376665      B\n",
       "8      79.083  2754007705      B\n",
       "9      79.994  2777860250      A\n",
       "10    167.677  3208358050      B\n",
       "11     64.083  3642268329      B\n",
       "12   6054.348  3282163375      A\n",
       "13    154.058   373987122      A\n",
       "14     26.184  3194893365      A\n",
       "15     36.990  3194893365      B\n",
       "16     36.481  1398527286      A\n",
       "17      2.896  2820165946      A\n",
       "18    279.029  2820165946      B\n",
       "19    253.450  3999542713      A\n",
       "20  25844.858  3999542713      B\n",
       "21   8185.544  4187013443      B\n",
       "22     85.640  3299522247      B\n",
       "23    494.495  1396222414      A\n",
       "24     13.228  3810024924      A\n",
       "25     41.016  3319278301      B\n",
       "26     47.221  3474261213      B\n",
       "27     25.899  3839108837      B\n",
       "28     19.053  1383804776      A\n",
       "29    139.500   158080108      B\n",
       "30     16.358  3771874035      B\n",
       "31   6646.542   777092727      A\n",
       "32     47.233   777092727      B\n",
       "33     10.552   791416698      A\n",
       "34     20.499  1425122429      B"
      ]
     },
     "execution_count": 124,
     "metadata": {},
     "output_type": "execute_result"
    }
   ],
   "source": [
    "dataframe_resumo\n"
   ]
  },
  {
   "cell_type": "code",
   "execution_count": 125,
   "metadata": {
    "collapsed": false
   },
   "outputs": [
    {
     "data": {
      "text/plain": [
       "(array([ 1.,  2.,  2.,  3.,  2.,  1.,  2.,  1.,  1.,  1.,  0.,  0.,  0.,\n",
       "         1.,  0.,  0.,  1.,  0.,  0.,  0.,  0.,  0.,  0.,  0.,  0.,  0.,\n",
       "         1.,  0.,  0.]),\n",
       " array([   0.        ,   10.34482759,   20.68965517,   31.03448276,\n",
       "          41.37931034,   51.72413793,   62.06896552,   72.4137931 ,\n",
       "          82.75862069,   93.10344828,  103.44827586,  113.79310345,\n",
       "         124.13793103,  134.48275862,  144.82758621,  155.17241379,\n",
       "         165.51724138,  175.86206897,  186.20689655,  196.55172414,\n",
       "         206.89655172,  217.24137931,  227.5862069 ,  237.93103448,\n",
       "         248.27586207,  258.62068966,  268.96551724,  279.31034483,\n",
       "         289.65517241,  300.        ]),\n",
       " <a list of 29 Patch objects>)"
      ]
     },
     "execution_count": 125,
     "metadata": {},
     "output_type": "execute_result"
    },
    {
     "data": {
      "image/png": "[encoded data removed]",
      "text/plain": [
       "<matplotlib.figure.Figure at 0x2364a3c9a20>"
      ]
     },
     "metadata": {},
     "output_type": "display_data"
    }
   ],
   "source": [
    "tempos_A = list(dataframe_resumo[dataframe_resumo.versao==\"A\"].delta_t)\n",
    "tempos_B = list(dataframe_resumo[dataframe_resumo.versao==\"B\"].delta_t)\n",
    "\n",
    "TEMPO = np.linspace(0,300,30)\n",
    "\n",
    "#Excluindo os tempos discrepantes.\n",
    "\n",
    "tempos_A1=[]\n",
    "tempos_B1=[]\n",
    "for i in tempos_A:\n",
    "    if (i<400):\n",
    "        tempos_A1.append(i)\n",
    "        \n",
    "for t in tempos_B:\n",
    "    if (t<400):\n",
    "        tempos_B1.append(t)\n",
    "\n",
    "plt.hist(tempos_A1, bins=TEMPO)\n",
    "plt.hist(tempos_B1, bins=TEMPO, alpha=0.5)"
   ]
  },
  {
   "cell_type": "markdown",
   "metadata": {},
   "source": [
    "Teste de hipótese:\n",
    "u0 : uA = uB ~ hipótese nula\n",
    "u1 : uB > uA ~ hipótese alternativa\n",
    "alfa = 5% ~ 0.05\n"
   ]
  },
  {
   "cell_type": "markdown",
   "metadata": {},
   "source": [
    "Cálculo das Médias Amostrais, Desvios Padrões e Variâncias:"
   ]
  },
  {
   "cell_type": "code",
   "execution_count": 126,
   "metadata": {
    "collapsed": false
   },
   "outputs": [
    {
     "name": "stdout",
     "output_type": "stream",
     "text": [
      "A média amostral do site A é 61.932900000000004\n",
      "A média amostral do site B é 70.62373684210526\n"
     ]
    }
   ],
   "source": [
    "totalA = 0\n",
    "nA=0\n",
    "for i in tempos_A1:\n",
    "    nA+=1\n",
    "    totalA += i\n",
    "mediaA = total/nA\n",
    "\n",
    "\n",
    "totalB = 0\n",
    "nB = 0\n",
    "for i in tempos_B1:\n",
    "    nB+=1\n",
    "    totalB += i\n",
    "mediaB = totalB/nB\n",
    "\n",
    "print(\"A média amostral do site A é {}\".format(mediaA))\n",
    "print(\"A média amostral do site B é {}\".format(mediaB))\n",
    "\n",
    "\n"
   ]
  },
  {
   "cell_type": "code",
   "execution_count": 127,
   "metadata": {
    "collapsed": false
   },
   "outputs": [
    {
     "name": "stdout",
     "output_type": "stream",
     "text": [
      "A variância do site A é 5923.626789489999\n",
      "A variância do site B é 4015.9824800886427\n"
     ]
    }
   ],
   "source": [
    "VarA = np.var(tempos_A1)\n",
    "VarB =np.var(tempos_B1)\n",
    "\n",
    "print(\"A variância do site A é {}\".format(VarA))\n",
    "print(\"A variância do site B é {}\".format(VarB))"
   ]
  },
  {
   "cell_type": "code",
   "execution_count": 128,
   "metadata": {
    "collapsed": false
   },
   "outputs": [
    {
     "name": "stdout",
     "output_type": "stream",
     "text": [
      "O desvio padrão do site A é 76.9651011140114\n",
      "O desvio padrão do site B é 63.371779839993785\n"
     ]
    }
   ],
   "source": [
    "dpA = np.var(tempos_A1)**0.5\n",
    "dpB =np.var(tempos_B1)**0.5\n",
    "\n",
    "print(\"O desvio padrão do site A é {}\".format(dpA))\n",
    "print(\"O desvio padrão do site B é {}\".format(dpB))"
   ]
  },
  {
   "cell_type": "code",
   "execution_count": 137,
   "metadata": {
    "collapsed": false
   },
   "outputs": [
    {
     "data": {
      "text/plain": [
       "-8.6908368421052558"
      ]
     },
     "execution_count": 137,
     "metadata": {},
     "output_type": "execute_result"
    }
   ],
   "source": [
    "Xobs = (mediaA - mediaB)\n",
    "Xobs\n",
    "\n"
   ]
  },
  {
   "cell_type": "code",
   "execution_count": 145,
   "metadata": {
    "collapsed": false,
    "scrolled": true
   },
   "outputs": [
    {
     "name": "stdout",
     "output_type": "stream",
     "text": [
      "A variância do conjunto de sites AB é 28.35013541239325\n",
      "O desvio padrão do conjunto de sites AB é 5.3244845208145035\n"
     ]
    }
   ],
   "source": [
    "VarAB = (VarA/nA +VarB/nB)**0.5\n",
    "print(\"A variância do conjunto de sites AB é {}\".format(VarAB))\n",
    "\n",
    "dpAB = (VarAB) ** 0.5\n",
    "print(\"O desvio padrão do conjunto de sites AB é {}\".format(dpAB))\n"
   ]
  },
  {
   "cell_type": "code",
   "execution_count": 165,
   "metadata": {
    "collapsed": false
   },
   "outputs": [
    {
     "data": {
      "text/plain": [
       "-0.30655362719382495"
      ]
     },
     "execution_count": 165,
     "metadata": {},
     "output_type": "execute_result"
    }
   ],
   "source": [
    "#Achando o t correspondente ao gl para o respectivo grau de liberdade\n",
    "#t = Xobs-(ua-ub)/VarAB\n",
    "t = Xobs/VarAB\n",
    "t\n"
   ]
  },
  {
   "cell_type": "markdown",
   "metadata": {},
   "source": [
    "Como a hipótese nula analisa se ua = ub, o valor deles na equação acima será 0 mais o valor de sua diferença."
   ]
  },
  {
   "cell_type": "code",
   "execution_count": 154,
   "metadata": {
    "collapsed": false
   },
   "outputs": [
    {
     "name": "stdout",
     "output_type": "stream",
     "text": [
      "O grau de liberdade do conjunto de sites AB é 15.57702767085428\n"
     ]
    }
   ],
   "source": [
    "gl = (VarA/nA + VarB/nB)**2/((VarA/nA)**2/(nA-1)+(VarB/nB)**2/(nB-1))\n",
    "print(\"O grau de liberdade do conjunto de sites AB é {}\".format(gl))"
   ]
  },
  {
   "cell_type": "code",
   "execution_count": 178,
   "metadata": {
    "collapsed": false
   },
   "outputs": [
    {
     "data": {
      "text/plain": [
       "-2.2407102252368687"
      ]
     },
     "execution_count": 178,
     "metadata": {},
     "output_type": "execute_result"
    }
   ],
   "source": [
    "tc = scipy.stats.t.ppf(0.02 , df = gl)\n",
    "tc\n"
   ]
  },
  {
   "cell_type": "code",
   "execution_count": 179,
   "metadata": {
    "collapsed": false
   },
   "outputs": [
    {
     "data": {
      "text/plain": [
       "-1.7487958965247743"
      ]
     },
     "execution_count": 179,
     "metadata": {},
     "output_type": "execute_result"
    }
   ],
   "source": [
    "tc2 = scipy.stats.t.ppf(0.05, df = gl)\n",
    "tc2"
   ]
  },
  {
   "cell_type": "code",
   "execution_count": 180,
   "metadata": {
    "collapsed": false
   },
   "outputs": [
    {
     "data": {
      "text/plain": [
       "-1.338322043688903"
      ]
     },
     "execution_count": 180,
     "metadata": {},
     "output_type": "execute_result"
    }
   ],
   "source": [
    "tc3 = scipy.stats.t.ppf(0.10, df = gl)\n",
    "tc3"
   ]
  },
  {
   "cell_type": "code",
   "execution_count": 187,
   "metadata": {
    "collapsed": false
   },
   "outputs": [
    {
     "data": {
      "text/plain": [
       "0.38162137833301163"
      ]
     },
     "execution_count": 187,
     "metadata": {},
     "output_type": "execute_result"
    }
   ],
   "source": [
    "T = scipy.stats.t.cdf(t,df = (gl))\n",
    "T"
   ]
  },
  {
   "cell_type": "markdown",
   "metadata": {},
   "source": [
    "Este último valor representa a função acumulativa para o teste de hipótese da população. Comparando o valor T com o tc (\"t crítico\"), pode-se concluir que, com uma confiança de 95%, a hipótese nula não foi rejeitada, ou seja, as médias do tempo que o usuário leva para achar o projeto \"Chuveiro Elétrico\" nos dois sites podem ser consideradas equivalentes. Além disso, testando índices de confiança de 90% e 98% a conclusão foi a mesma."
   ]
  },
  {
   "cell_type": "code",
   "execution_count": 184,
   "metadata": {
    "collapsed": false
   },
   "outputs": [
    {
     "data": {
      "text/plain": [
       "-0.30655362719382501"
      ]
     },
     "execution_count": 184,
     "metadata": {},
     "output_type": "execute_result"
    }
   ],
   "source": [
    "scipy.stats.t.ppf(T, df =(gl))"
   ]
  },
  {
   "cell_type": "markdown",
   "metadata": {},
   "source": [
    "Considerando que o valor-p é o alpha mínimo para rejeitar a hipótese nula, o valor-p é igual a aproximadamente 0.3816. Dessa forma, caso o índice de confiança fosse de 61.8%, aproximadamente, a hipótese nula teria sido rejeitada e as médias dos tempos dos usuários poderiam ser consideradas diferentes."
   ]
  },
  {
   "cell_type": "code",
   "execution_count": null,
   "metadata": {
    "collapsed": false
   },
   "outputs": [],
   "source": []
  },
  {
   "cell_type": "code",
   "execution_count": null,
   "metadata": {
    "collapsed": false
   },
   "outputs": [],
   "source": [
    "\n"
   ]
  },
  {
   "cell_type": "code",
   "execution_count": null,
   "metadata": {
    "collapsed": true
   },
   "outputs": [],
   "source": []
  }
 ],
 "metadata": {
  "kernelspec": {
   "display_name": "Python 3",
   "language": "python",
   "name": "python3"
  },
  "language_info": {
   "codemirror_mode": {
    "name": "ipython",
    "version": 3
   },
   "file_extension": ".py",
   "mimetype": "text/x-python",
   "name": "python",
   "nbconvert_exporter": "python",
   "pygments_lexer": "ipython3",
   "version": "3.5.2"
  }
 },
 "nbformat": 4,
 "nbformat_minor": 0
}
