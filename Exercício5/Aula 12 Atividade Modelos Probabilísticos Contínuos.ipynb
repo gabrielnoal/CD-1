{
 "cells": [
  {
   "cell_type": "markdown",
   "metadata": {},
   "source": [
    "___\n",
    "# Atividade: Modelos probabilísticos contínuos e Dados\n",
    "___\n",
    "\n",
    "## Aula 12\n",
    "\n",
    "**Preparo Prévio:**\n",
    "1.\tLeitura prévia necessária: Magalhães e Lima (7ª. Edição): Modelo Normal (pág. 197 a 203).\n",
    "\n",
    "**Hoje:**\n",
    "1. Descrever as propriedades do modelo normal quanto aos resultados teóricos.\n",
    "2. Utilizar modelos normais para resolução de problemas seja com ou sem uso do Python.\n",
    "3. Contrastar resultados teóricos e empíricos.\n",
    "\n",
    "\n",
    "**Próxima aula:**\n",
    "1.\tLeitura prévia necessária: Magalhães e Lima (7ª. Edição): Seção 5.1 (pág. 137) e Seção 5.2 (pág. 146).\n",
    "___"
   ]
  },
  {
   "cell_type": "markdown",
   "metadata": {},
   "source": [
    "___\n",
    "## <font color='blue'>Padaria </font>\n",
    "\n",
    "Uma empresa deve decidir onde construir uma padaria: <font color='green'>Bairro A </font> ou <font color='orange'> Bairro B </font>. \n",
    "\n",
    "Como ambos os bairros possuem densidades populacionais próximas, os investidores visam atingir um público alvo de maior renda familiar. \n",
    "Assim, quanto maior o número de famílias com rendas familiares mais altas, maior será a chance do empreendimento ser bem sucedido. \n",
    "\n",
    "Considerando que a decisão final seja baseada em informações sobre a renda familiar dos moradores desses dois bairros, responda:\n",
    "\n",
    "1. Calcule algumas medidas resumo úteis para entender o comportamento dessa variável em ambos os bairros. Analise.\n",
    "2. Construa o histograma dos dados e compare as distribuições de renda familiar (em mil reais) dos dois bairros. Qual é o melhor bairro para construir o padaria? Justifique.\n",
    "3. Assuma que $X$: renda familiar de um determinado bairro tenha $\\mu$ estimada pela média amostral ($\\bar{x}$) e tenha $\\sigma^2$ estimada pela variância amostral, ambas de um mesmo bairro em questão. Verifique, visualmente/graficamente, se a distribuição normal é adequada para estimar a renda familiar de cada bairro. Para isso, interprete os seguintes gráficos:\n",
    "      1. Construa o histograma dos dados junto com a fdp da distribuição normal.\n",
    "      2. Construa o QQ-Plot (quantil amostral vs quantil teórico). Dica: veja Exemplo 6.8 do Magalhães e Lima (7ª. edição) de como obter as frequências relativas acumuladas a partir de uma amostra de tamanho n=500 (de cada bairro). Os quantis teóricos da distribuição normal podem ser obtidos pelo comando `stats.norm.ppf(p, loc=mu, scale=sigma)`, sendo `p` a frequencia relativa acumulada  obtida anteriormente.\n",
    "      3. Construa um gráfico dos valores observados vs frequência relativa acumulada (a partir dos dados) e vs função de distribuição acumulada.\n",
    "   \n",
    "4. Independente da sua resposta do item anterior, assuma que $X$: renda familiar de um determinado bairro segue uma distribuição normal considerando as estimativas amostrais como valores dos parâmetros de cada bairro. Nesse caso, para cada bairro, calcule:\n",
    "      1. probabilidade de uma família possuir renda familiar maior do que 17 mil reais.\n",
    "      2. sabendo que a famíliar tem mais do que 15 mil reais de renda familiar, qual a probabilidade dessa possuir renda inferior a 16 mil reais.\n",
    "      3. qual a menor renda familiar dos 5% das famílias que mais ganham em cada bairro? \n",
    "\n"
   ]
  },
  {
   "cell_type": "code",
   "execution_count": null,
   "metadata": {
    "collapsed": false
   },
   "outputs": [],
   "source": [
    "%matplotlib inline\n",
    "\n",
    "import os\n",
    "import matplotlib.pyplot as plt\n",
    "import pandas as pd\n",
    "from scipy import stats\n",
    "from numpy import mean, var, arange\n",
    "\n",
    "print('Esperamos trabalhar no diretório')\n",
    "print(os.getcwd())\n",
    "\n",
    "pad = pd.read_excel('Padaria.xlsx')"
   ]
  },
  {
   "cell_type": "code",
   "execution_count": null,
   "metadata": {
    "collapsed": true
   },
   "outputs": [],
   "source": []
  }
 ],
 "metadata": {
  "anaconda-cloud": {},
  "kernelspec": {
   "display_name": "Python 3",
   "language": "python",
   "name": "python3"
  },
  "language_info": {
   "codemirror_mode": {
    "name": "ipython",
    "version": 3
   },
   "file_extension": ".py",
   "mimetype": "text/x-python",
   "name": "python",
   "nbconvert_exporter": "python",
   "pygments_lexer": "ipython3",
   "version": "3.4.5"
  }
 },
 "nbformat": 4,
 "nbformat_minor": 0
}
