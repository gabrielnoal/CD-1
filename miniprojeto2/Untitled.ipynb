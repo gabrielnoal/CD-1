{
 "cells": [
  {
   "cell_type": "markdown",
   "metadata": {},
   "source": [
    "# MiniProjeto 2"
   ]
  },
  {
   "cell_type": "markdown",
   "metadata": {},
   "source": [
    "### William Palmieri - 2A"
   ]
  },
  {
   "cell_type": "markdown",
   "metadata": {},
   "source": [
    "  "
   ]
  },
  {
   "cell_type": "markdown",
   "metadata": {},
   "source": [
    "#### O QUE DEVE SER FEITO: \n",
    "Neste miniprojeto, você e sua equipe (até TRIO) deverão fazer um estudo de SIMULAÇÃO para visualizar graficamente a distribuição da média amostral, calcular o valor médio e a variância dessas médias e interpretar esses resultados. "
   ]
  },
  {
   "cell_type": "code",
   "execution_count": 1,
   "metadata": {
    "collapsed": true
   },
   "outputs": [],
   "source": [
    "%matplotlib inline\n",
    "import pandas as pd\n",
    "import matplotlib.pyplot as plt\n",
    "import numpy as np\n",
    "from scipy import stats\n",
    "import itertools"
   ]
  },
  {
   "cell_type": "markdown",
   "metadata": {},
   "source": [
    "### 1. Construindo os valores da população: \n"
   ]
  },
  {
   "cell_type": "markdown",
   "metadata": {
    "collapsed": true
   },
   "source": [
    "A distribuição analisada será a Exponencial, com lambda = 1.5"
   ]
  },
  {
   "cell_type": "code",
   "execution_count": 2,
   "metadata": {
    "collapsed": false
   },
   "outputs": [],
   "source": [
    "#Sorteando valores da destribuição escolhida\n",
    "sorteio = stats.expon.rvs(loc=0, scale=1, size=1000000, random_state=None)"
   ]
  },
  {
   "cell_type": "code",
   "execution_count": 3,
   "metadata": {
    "collapsed": false
   },
   "outputs": [
    {
     "name": "stdout",
     "output_type": "stream",
     "text": [
      "0.998556180717\n",
      "0.997248638842\n"
     ]
    }
   ],
   "source": [
    "#Calculando a média e a variância dos valores sorteados\n",
    "print(np.mean(sorteio))\n",
    "print(np.var(sorteio))\n"
   ]
  },
  {
   "cell_type": "markdown",
   "metadata": {},
   "source": [
    " "
   ]
  },
  {
   "cell_type": "markdown",
   "metadata": {},
   "source": [
    "### 2. Construindo a distribuição da média amostral: "
   ]
  },
  {
   "cell_type": "code",
   "execution_count": 4,
   "metadata": {
    "collapsed": false
   },
   "outputs": [],
   "source": [
    "n = 2"
   ]
  },
  {
   "cell_type": "code",
   "execution_count": 5,
   "metadata": {
    "collapsed": false,
    "scrolled": true
   },
   "outputs": [
    {
     "name": "stdout",
     "output_type": "stream",
     "text": [
      "[ 1.17556195  2.70414312]\n"
     ]
    }
   ],
   "source": [
    "# Sorteando n valores \n",
    "list = np.random.choice(sorteio, size=n, replace=False)\n",
    "print (list)"
   ]
  },
  {
   "cell_type": "code",
   "execution_count": 6,
   "metadata": {
    "collapsed": false
   },
   "outputs": [
    {
     "name": "stdout",
     "output_type": "stream",
     "text": [
      "1.93985253488\n"
     ]
    }
   ],
   "source": [
    "x0 = list.mean()\n",
    "print (x0)"
   ]
  },
  {
   "cell_type": "code",
   "execution_count": 7,
   "metadata": {
    "collapsed": false
   },
   "outputs": [],
   "source": [
    "listx0 = []\n",
    "def Media_amostral (n):\n",
    "    for i in range (100):\n",
    "        list = np.random.choice(sorteio, size=n, replace=False)\n",
    "        x0 = list.mean()\n",
    "        listx0.append(x0)\n",
    "    return listx0"
   ]
  },
  {
   "cell_type": "code",
   "execution_count": 8,
   "metadata": {
    "collapsed": false
   },
   "outputs": [
    {
     "name": "stdout",
     "output_type": "stream",
     "text": [
      " \n"
     ]
    },
    {
     "data": {
      "image/png": "[encoded data removed]",
      "text/plain": [
       "<matplotlib.figure.Figure at 0x1f0d29178d0>"
      ]
     },
     "metadata": {},
     "output_type": "display_data"
    }
   ],
   "source": [
    "n2 = Media_amostral(2)\n",
    "plt.hist(n2,normed=1, color = \"darkcyan\")\n",
    "print (\" \")"
   ]
  },
  {
   "cell_type": "markdown",
   "metadata": {
    "collapsed": true
   },
   "source": [
    "<p>Inicialmente, fazemos uma medição de 2 valores e tiramos a média desses.</p>\n",
    "<p> Se fizermos essa medição pegando sempre dois valores aleatórios e tirando a média deles, ao final do processo, teremos um conjunto de valores</p>\n",
    "<p> Esse conjunto de valores é chamado de média amostral</p>\n",
    "<p>Fizemos a distribuição da média amostral e obtivemos uma distribuição normal. </p>\n",
    "<p> Esse é o Teorema do Limite Central, que diz, entre outras coisas, que a distribuição da média amostral será sempre uma normal</p>\n",
    "<p>Entretanto, por se tratar de um n pequeno, o gráfico do exemplo não fica muito próximo de uma normal. Esse problema será contornado nos passos anteriores. </p>"
   ]
  },
  {
   "cell_type": "markdown",
   "metadata": {},
   "source": [
    "### 3. Repetindo o item 2 para n = 4; n = 20; n = 50. "
   ]
  },
  {
   "cell_type": "code",
   "execution_count": 9,
   "metadata": {
    "collapsed": false
   },
   "outputs": [
    {
     "name": "stdout",
     "output_type": "stream",
     "text": [
      " \n"
     ]
    },
    {
     "data": {
      "image/png": "[encoded data removed]",
      "text/plain": [
       "<matplotlib.figure.Figure at 0x1f0d2a92240>"
      ]
     },
     "metadata": {},
     "output_type": "display_data"
    }
   ],
   "source": [
    "# Calculando agora para n = 4\n",
    "n4 = Media_amostral(4)\n",
    "plt.hist(n4,normed=1, color = \"darkcyan\")\n",
    "print (\" \")"
   ]
  },
  {
   "cell_type": "code",
   "execution_count": 10,
   "metadata": {
    "collapsed": false
   },
   "outputs": [
    {
     "name": "stdout",
     "output_type": "stream",
     "text": [
      " \n"
     ]
    },
    {
     "data": {
      "image/png": "[encoded data removed]",
      "text/plain": [
       "<matplotlib.figure.Figure at 0x1f0d3247518>"
      ]
     },
     "metadata": {},
     "output_type": "display_data"
    }
   ],
   "source": [
    "# Calculando agora para n = 20\n",
    "n20 = Media_amostral(20)\n",
    "plt.hist(n20,normed=1, color = \"darkcyan\")\n",
    "print (\" \")"
   ]
  },
  {
   "cell_type": "code",
   "execution_count": 11,
   "metadata": {
    "collapsed": false
   },
   "outputs": [
    {
     "name": "stdout",
     "output_type": "stream",
     "text": [
      " \n"
     ]
    },
    {
     "data": {
      "image/png": "[encoded data removed]",
      "text/plain": [
       "<matplotlib.figure.Figure at 0x1f0d32a1160>"
      ]
     },
     "metadata": {},
     "output_type": "display_data"
    }
   ],
   "source": [
    "#Calculando agora para n = 50\n",
    "n50 = Media_amostral(50)\n",
    "plt.hist(n50,normed=1, color = \"darkcyan\")\n",
    "print (\" \")"
   ]
  },
  {
   "cell_type": "markdown",
   "metadata": {},
   "source": [
    "### 4. Concluindo"
   ]
  },
  {
   "cell_type": "markdown",
   "metadata": {
    "collapsed": true
   },
   "source": [
    "<p> Nos exemplos acima, nós aumentamos o \"n\" e obtivemos gráficos mais verdadeiramente próximos de uma distribuição Normal </p>\n",
    "<p>Como diz o TLC, quando o tamanho da amostra aumenta, a distribuição amostral da sua média aproxima-se cada vez mais de uma distribuição normal. </p>"
   ]
  },
  {
   "cell_type": "markdown",
   "metadata": {},
   "source": [
    " "
   ]
  },
  {
   "cell_type": "markdown",
   "metadata": {},
   "source": [
    " "
   ]
  },
  {
   "cell_type": "markdown",
   "metadata": {},
   "source": [
    "### 5. Falando um pouco mais sobre a \"amostra aleatória\""
   ]
  },
  {
   "cell_type": "markdown",
   "metadata": {},
   "source": [
    "<p> A amostra aleatória são os valores obtidos através da medição.</p>\n",
    "<p> tem-se que, a medição de um desses valores não influencia na medição do outro, assim, podemos afirmar que esses valores são independentes.</p>\n",
    "<p> Iremos provar isso a seguir. </p>"
   ]
  },
  {
   "cell_type": "code",
   "execution_count": 12,
   "metadata": {
    "collapsed": true
   },
   "outputs": [],
   "source": [
    "#Calculando as listas de 1°s valores e de 9°s valores\n",
    "\n",
    "listx1 = []\n",
    "listx9 = []\n",
    "\n",
    "for i in range (0, 10):\n",
    "    list = np.random.choice(sorteio, size=50, replace=False)\n",
    "    listx1.append(list[0])\n",
    "    listx9.append(list[8])"
   ]
  },
  {
   "cell_type": "code",
   "execution_count": 13,
   "metadata": {
    "collapsed": false
   },
   "outputs": [
    {
     "name": "stdout",
     "output_type": "stream",
     "text": [
      " \n"
     ]
    },
    {
     "data": {
      "image/png": "[encoded data removed]",
      "text/plain": [
       "<matplotlib.figure.Figure at 0x1f0d2aa6a90>"
      ]
     },
     "metadata": {},
     "output_type": "display_data"
    }
   ],
   "source": [
    "#Pegando apenas o 1° valor de cada medição\n",
    "plt.hist(listx1,normed=1, color = \"lightcyan\")\n",
    "\n",
    "#Pegando apenas o 9° valor de cada medição\n",
    "plt.hist(listx9,normed=1, color = \"darkcyan\")\n",
    "print (\" \")"
   ]
  },
  {
   "cell_type": "markdown",
   "metadata": {},
   "source": [
    "<p>Plotando os dois valores, percebemos que são próximos. Isso mostra que não há uma correlação aparente entre eles. </p> <p>Entretanto, iremos também calcular a correlação para ter um valor exato.</p>"
   ]
  },
  {
   "cell_type": "code",
   "execution_count": 14,
   "metadata": {
    "collapsed": false
   },
   "outputs": [
    {
     "ename": "NameError",
     "evalue": "name 'correlação' is not defined",
     "output_type": "error",
     "traceback": [
      "\u001b[0;31m---------------------------------------------------------------------------\u001b[0m",
      "\u001b[0;31mNameError\u001b[0m                                 Traceback (most recent call last)",
      "\u001b[0;32m<ipython-input-14-dc765cd82e5d>\u001b[0m in \u001b[0;36m<module>\u001b[0;34m()\u001b[0m\n\u001b[1;32m     13\u001b[0m     \u001b[0mcor\u001b[0m \u001b[0;34m=\u001b[0m \u001b[0mcov\u001b[0m\u001b[0;34m/\u001b[0m\u001b[0;34m(\u001b[0m\u001b[0mnp\u001b[0m\u001b[0;34m.\u001b[0m\u001b[0mvar\u001b[0m\u001b[0;34m(\u001b[0m\u001b[0mlistx1\u001b[0m\u001b[0;34m)\u001b[0m \u001b[0;34m*\u001b[0m \u001b[0mnp\u001b[0m\u001b[0;34m.\u001b[0m\u001b[0mvar\u001b[0m\u001b[0;34m(\u001b[0m\u001b[0mlistx1\u001b[0m\u001b[0;34m)\u001b[0m\u001b[0;34m)\u001b[0m\u001b[0;34m\u001b[0m\u001b[0m\n\u001b[1;32m     14\u001b[0m \u001b[0;34m\u001b[0m\u001b[0m\n\u001b[0;32m---> 15\u001b[0;31m \u001b[0mprint\u001b[0m\u001b[0;34m(\u001b[0m\u001b[0;34m\"Correlação entre X1 e X9\"\u001b[0m\u001b[0;34m,\u001b[0m \u001b[0mcorrelação\u001b[0m\u001b[0;34m)\u001b[0m\u001b[0;34m\u001b[0m\u001b[0m\n\u001b[0m",
      "\u001b[0;31mNameError\u001b[0m: name 'correlação' is not defined"
     ]
    }
   ],
   "source": [
    "cv = 0\n",
    "\n",
    "#calculando a média dos 1°s e 9°s valores\n",
    "mediaX1 = np.mean(listx1)\n",
    "mediaX9 = np.mean(listx9)\n",
    "\n",
    "#Calculando a Correlação\n",
    "for i in range(len(listx1)):\n",
    "    soma = ((listx1[i]-mediaX1)*(listx9[i]-mediaX9))\n",
    "    cv += soma\n",
    "    cov = cv/len(listx1)\n",
    "    \n",
    "    cor = cov/(np.var(listx1) * np.var(listx1))\n",
    "    \n",
    "print(\"Correlação entre X1 e X9\", correlação)    "
   ]
  },
  {
   "cell_type": "markdown",
   "metadata": {},
   "source": [
    "Temos então que a correlação, muito pequena, corrobora o TLC e percebemos que as variáveis são independentes."
   ]
  }
 ],
 "metadata": {
  "kernelspec": {
   "display_name": "Python 3",
   "language": "python",
   "name": "python3"
  },
  "language_info": {
   "codemirror_mode": {
    "name": "ipython",
    "version": 3
   },
   "file_extension": ".py",
   "mimetype": "text/x-python",
   "name": "python",
   "nbconvert_exporter": "python",
   "pygments_lexer": "ipython3",
   "version": "3.5.2"
  }
 },
 "nbformat": 4,
 "nbformat_minor": 0
}
